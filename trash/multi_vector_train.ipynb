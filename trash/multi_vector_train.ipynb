{
 "cells": [
  {
   "cell_type": "code",
   "execution_count": 1,
   "metadata": {},
   "outputs": [],
   "source": [
    "import json\n",
    "import torch\n",
    "from txtai.embeddings import Embeddings\n",
    "import ultraprint.common as p"
   ]
  },
  {
   "cell_type": "markdown",
   "metadata": {},
   "source": [
    "## Flatten Categories"
   ]
  },
  {
   "cell_type": "code",
   "execution_count": 2,
   "metadata": {},
   "outputs": [
    {
     "name": "stdout",
     "output_type": "stream",
     "text": [
      "Total categories:\n",
      "19\n",
      "Processing Genre-Based Classes...\n",
      "Total items: 8\n",
      "Processing Emotional or Mood-Based Classes...\n",
      "Total items: 6\n",
      "Processing Use-Case or Functional Classes...\n",
      "Total items: 5\n"
     ]
    }
   ],
   "source": [
    "def flatten_categories(data, parent_keys=[]):\n",
    "    items = []\n",
    "    for key, value in data.items():\n",
    "        new_keys = parent_keys + [key]\n",
    "        if isinstance(value, list):\n",
    "            for val in value:\n",
    "                items.append(new_keys + [val])\n",
    "    return items\n",
    "\n",
    "def main():\n",
    "    with open('categories.json', 'r') as f:\n",
    "        categories = json.load(f)\n",
    "    \n",
    "    flattened_categories = flatten_categories(categories)\n",
    "    \n",
    "    print(\"Total categories:\")\n",
    "    print(len(flattened_categories))\n",
    "\n",
    "    # Create a dictionary to store categories by their first key\n",
    "    categories_by_key = {}\n",
    "    for item in flattened_categories:\n",
    "        key = item[0]\n",
    "        if key not in categories_by_key:\n",
    "            categories_by_key[key] = []\n",
    "        categories_by_key[key].append(item)\n",
    "    \n",
    "    # Save each category to a separate file\n",
    "    for key, items in categories_by_key.items():\n",
    "        print(f\"Processing {key}...\")\n",
    "        print(f\"Total items: {len(items)}\")\n",
    "        filename = f'{key}_categories.json'\n",
    "        with open(filename, 'w') as f:\n",
    "            json.dump(items, f, indent=4)\n",
    "\n",
    "main()\n"
   ]
  },
  {
   "cell_type": "markdown",
   "metadata": {},
   "source": [
    "## Vectorize Categories"
   ]
  },
  {
   "cell_type": "code",
   "execution_count": 3,
   "metadata": {},
   "outputs": [
    {
     "name": "stderr",
     "output_type": "stream",
     "text": [
      "c:\\Users\\Ranit Bhowmick\\AppData\\Local\\Programs\\Python\\Python311\\Lib\\site-packages\\huggingface_hub\\file_download.py:1132: FutureWarning: `resume_download` is deprecated and will be removed in version 1.0.0. Downloads always resume when possible. If you want to force a new download, use `force_download=True`.\n",
      "  warnings.warn(\n",
      "C:\\Users\\Ranit Bhowmick\\AppData\\Local\\Temp\\ipykernel_9036\\1236502591.py:27: UserWarning: Creating a tensor from a list of numpy.ndarrays is extremely slow. Please consider converting the list to a single numpy.ndarray with numpy.array() before converting to a tensor. (Triggered internally at ..\\torch\\csrc\\utils\\tensor_new.cpp:248.)\n",
      "  embedded_data = torch.tensor(embedded_data).to('cuda')\n"
     ]
    }
   ],
   "source": [
    "# Load the JSON file\n",
    "with open('Emotional or Mood-Based Classes_categories.json', 'r') as f:\n",
    "    mood_data = json.load(f)\n",
    "\n",
    "with open('Genre-Based Classes_categories.json', 'r') as f:\n",
    "    genre_data = json.load(f)\n",
    "\n",
    "with open('Use-Case or Functional Classes_categories.json', 'r') as f:\n",
    "    use_case_data = json.load(f)\n",
    "\n",
    "# Initialize txtai embeddings\n",
    "embeddings = Embeddings({\"path\": \"sentence-transformers/all-MiniLM-L6-v2\", \"cache\": \"./models\"})\n",
    "\n",
    "# Function to embed text\n",
    "def embed_text(text):\n",
    "    return embeddings.transform([text])\n",
    "\n",
    "# Process each array in the JSON\n",
    "def process_data(data):\n",
    "    embedded_data = []\n",
    "    for item in data:\n",
    "        if len(item) >= 2:\n",
    "            text_to_embed = ' '.join([item[1]])\n",
    "            embedding = embed_text(text_to_embed)\n",
    "            embedded_data.append(embedding)\n",
    "\n",
    "    embedded_data = torch.tensor(embedded_data).to('cuda')\n",
    "    return embedded_data\n",
    "\n",
    "# Embed data from each JSON file\n",
    "mood_embedded_data = process_data(mood_data)\n",
    "genre_embedded_data = process_data(genre_data)\n",
    "use_case_embedded_data = process_data(use_case_data)\n",
    "\n",
    "# Save the embeddings\n",
    "torch.save(mood_embedded_data, 'models/mood_embedded_data.pt')\n",
    "torch.save(genre_embedded_data, 'models/genre_embedded_data.pt')\n",
    "torch.save(use_case_embedded_data, 'models/use_case_embedded_data.pt')"
   ]
  },
  {
   "cell_type": "markdown",
   "metadata": {},
   "source": [
    "## Vector Search"
   ]
  },
  {
   "cell_type": "code",
   "execution_count": 4,
   "metadata": {},
   "outputs": [],
   "source": [
    "def get_similarities(string, embeddings):\n",
    "\n",
    "    # Embed the input string\n",
    "    input_embedding = torch.tensor(embed_text(string)).to('cuda')\n",
    "\n",
    "    # Calculate the cosine similarity\n",
    "    similarities = []\n",
    "    for embedding in embeddings:\n",
    "        \n",
    "        # Compute the dot product\n",
    "        dot_product = torch.dot(input_embedding, embedding)\n",
    "        # Compute the norms\n",
    "        norm_input = torch.norm(input_embedding)\n",
    "        norm_embedding = torch.norm(embedding)\n",
    "        \n",
    "        # Compute the cosine similarity\n",
    "        similarity = torch.abs(dot_product) / (norm_input * norm_embedding)\n",
    "        \n",
    "        similarities.append(similarity.item())\n",
    "    \n",
    "    # Return the similarities as a tensor\n",
    "    similarities = torch.tensor(similarities).to('cuda')\n",
    "\n",
    "    return similarities\n",
    "\n",
    "def get_mood_similarities(string):\n",
    "    return get_similarities(string, mood_embedded_data)\n",
    "\n",
    "def get_genre_similarities(string):\n",
    "    return get_similarities(string, genre_embedded_data)\n",
    "\n",
    "def get_use_case_similarities(string):\n",
    "    return get_similarities(string, use_case_embedded_data)"
   ]
  },
  {
   "cell_type": "code",
   "execution_count": 5,
   "metadata": {},
   "outputs": [
    {
     "name": "stdout",
     "output_type": "stream",
     "text": [
      "6\n",
      "['Emotional or Mood-Based Classes', 'Happy']\n",
      "8\n",
      "['Genre-Based Classes', 'Electronic']\n",
      "5\n",
      "['Use-Case or Functional Classes', 'Trailer']\n"
     ]
    }
   ],
   "source": [
    "sim = get_mood_similarities('I want to learn about the weather')\n",
    "print(len(sim))\n",
    "print(mood_data[torch.argmin(sim)])\n",
    "\n",
    "sim = get_genre_similarities('I want to learn about the weather')\n",
    "print(len(sim))\n",
    "print(genre_data[torch.argmin(sim)])\n",
    "\n",
    "sim = get_use_case_similarities('I want to learn about the weather')\n",
    "print(len(sim))\n",
    "print(use_case_data[torch.argmin(sim)])"
   ]
  },
  {
   "cell_type": "markdown",
   "metadata": {},
   "source": [
    "# Kaggle"
   ]
  },
  {
   "cell_type": "markdown",
   "metadata": {},
   "source": [
    "### Get Folder vectorized"
   ]
  },
  {
   "cell_type": "code",
   "execution_count": 6,
   "metadata": {},
   "outputs": [],
   "source": [
    "import os\n",
    "import json\n",
    "\n",
    "# Get genre folders\n",
    "base_path = \"kaggle_data\"\n",
    "genres = [f for f in os.listdir(base_path) if os.path.isdir(os.path.join(base_path, f))]\n",
    "\n",
    "# Process each genre and store vectors\n",
    "genre_vectors = {}\n",
    "for genre in genres:\n",
    "    # Get similarities for each category\n",
    "    mood_sim = get_mood_similarities(genre)\n",
    "    genre_sim = get_genre_similarities(genre)\n",
    "    use_case_sim = get_use_case_similarities(genre)\n",
    "    \n",
    "    # make the margmax 1 and the rest 0\n",
    "    mood_sim = torch.where(mood_sim == torch.max(mood_sim), torch.tensor(1).to('cuda'), torch.tensor(0).to('cuda'))\n",
    "    genre_sim = torch.where(genre_sim == torch.max(genre_sim), torch.tensor(1).to('cuda'), torch.tensor(0).to('cuda'))\n",
    "    use_case_sim = torch.where(use_case_sim == torch.max(use_case_sim), torch.tensor(1).to('cuda'), torch.tensor(0).to('cuda'))\n",
    "    \n",
    "    # Combine the similarities into a single vector\n",
    "    combined_sim = torch.cat((genre_sim, mood_sim, use_case_sim))\n",
    "    \n",
    "    genre_vectors[genre] = combined_sim.tolist()  # Convert tensor to list\n",
    "\n",
    "# Save to JSON file\n",
    "with open(base_path + \"/filename_similarities.json\", \"w\") as f:\n",
    "    json.dump(genre_vectors, f, indent=4)"
   ]
  },
  {
   "cell_type": "markdown",
   "metadata": {},
   "source": [
    "### GetBatch Kaggle"
   ]
  },
  {
   "cell_type": "code",
   "execution_count": 7,
   "metadata": {},
   "outputs": [
    {
     "name": "stdout",
     "output_type": "stream",
     "text": [
      "Audio paths: ['kaggle_data\\\\rock\\\\rock.00062.wav', 'kaggle_data\\\\classical\\\\classical.00076.wav', 'kaggle_data\\\\classical\\\\classical.00013.wav', 'kaggle_data\\\\rock\\\\rock.00092.wav']\n",
      "Labels shape: torch.Size([4, 19])\n"
     ]
    }
   ],
   "source": [
    "from model import PretrainedAudioClassifier\n",
    "import os\n",
    "import json\n",
    "import random\n",
    "import numpy as np\n",
    "\n",
    "def get_batch_kaggle(batch_size=32, base_path=\"kaggle_data\", device='cuda'):\n",
    "    # Load genre vectors from JSON\n",
    "    with open(os.path.join(base_path, \"filename_similarities.json\"), \"r\") as f:\n",
    "        genre_vectors = json.load(f)\n",
    "    \n",
    "    # Get all genre folders\n",
    "    genres = list(genre_vectors.keys())\n",
    "    \n",
    "    batch_audio_paths = []\n",
    "    batch_labels = []\n",
    "    \n",
    "    while len(batch_audio_paths) < batch_size:\n",
    "        # Select random genre\n",
    "        genre = random.choice(genres)\n",
    "        \n",
    "        # Get list of WAV files in genre folder\n",
    "        genre_path = os.path.join(base_path, genre)\n",
    "        if not os.path.exists(genre_path):\n",
    "            print(f\"Warning: Genre path does not exist: {genre_path}\")\n",
    "            continue\n",
    "            \n",
    "        audio_files = [f for f in os.listdir(genre_path) if f.endswith('.wav')]\n",
    "        \n",
    "        if audio_files:\n",
    "            # Select random audio file\n",
    "            audio_file = random.choice(audio_files)\n",
    "            audio_path = os.path.join(genre_path, audio_file)\n",
    "            \n",
    "            # Verify file exists\n",
    "            if not os.path.exists(audio_path):\n",
    "                print(f\"Warning: Audio file does not exist: {audio_path}\")\n",
    "                continue\n",
    "                \n",
    "            # Get corresponding genre vector\n",
    "            genre_vector = genre_vectors[genre]\n",
    "            \n",
    "            batch_audio_paths.append(audio_path)\n",
    "            batch_labels.append(genre_vector)\n",
    "    \n",
    "    return batch_audio_paths, torch.tensor(batch_labels, dtype=torch.float32, device=device)\n",
    "\n",
    "# Example usage:\n",
    "audio_paths, labels = get_batch_kaggle(batch_size=4)\n",
    "print(\"Audio paths:\", audio_paths)\n",
    "print(\"Labels shape:\", labels.shape)\n"
   ]
  },
  {
   "cell_type": "markdown",
   "metadata": {},
   "source": [
    "### Train Kaggle"
   ]
  },
  {
   "cell_type": "code",
   "execution_count": 31,
   "metadata": {},
   "outputs": [
    {
     "name": "stderr",
     "output_type": "stream",
     "text": [
      "Epoch 1/100:  17%|█▋        | 17/100 [00:07<00:33,  2.46it/s, loss=0.00712]c:\\Users\\Ranit Bhowmick\\AppData\\Local\\Programs\\Python\\Python311\\Lib\\site-packages\\torch\\nn\\modules\\loss.py:536: UserWarning: Using a target size (torch.Size([30, 19])) that is different to the input size (torch.Size([29, 19])). This will likely lead to incorrect results due to broadcasting. Please ensure they have the same size.\n",
      "  return F.mse_loss(input, target, reduction=self.reduction)\n",
      "Epoch 1/100:  18%|█▊        | 18/100 [00:07<00:30,  2.68it/s, loss=0.00712]"
     ]
    },
    {
     "name": "stdout",
     "output_type": "stream",
     "text": [
      "Error processing kaggle_data\\jazz\\jazz.00054.wav: Error opening 'kaggle_data\\\\jazz\\\\jazz.00054.wav': Format not recognised.\n",
      "\u001b[91m The size of tensor a (29) must match the size of tensor b (30) at non-singleton dimension 0\u001b[00m\n"
     ]
    },
    {
     "name": "stderr",
     "output_type": "stream",
     "text": [
      "Epoch 1/100:  93%|█████████▎| 93/100 [00:38<00:02,  2.37it/s, loss=0.00415]"
     ]
    },
    {
     "name": "stdout",
     "output_type": "stream",
     "text": [
      "Error processing kaggle_data\\jazz\\jazz.00054.wav: Error opening 'kaggle_data\\\\jazz\\\\jazz.00054.wav': Format not recognised.\n"
     ]
    },
    {
     "name": "stderr",
     "output_type": "stream",
     "text": [
      "Epoch 1/100:  94%|█████████▍| 94/100 [00:39<00:02,  2.54it/s, loss=0.00415]"
     ]
    },
    {
     "name": "stdout",
     "output_type": "stream",
     "text": [
      "\u001b[91m The size of tensor a (29) must match the size of tensor b (30) at non-singleton dimension 0\u001b[00m\n"
     ]
    },
    {
     "name": "stderr",
     "output_type": "stream",
     "text": [
      "Epoch 1/100: 100%|██████████| 100/100 [00:41<00:00,  2.40it/s, loss=0.00405]\n"
     ]
    },
    {
     "name": "stdout",
     "output_type": "stream",
     "text": [
      "\u001b[92m \n",
      "Checkpoint saved at epoch 1\u001b[00m\n",
      "\u001b[94m Epoch 1 average loss: 0.0041\u001b[00m\n"
     ]
    },
    {
     "name": "stderr",
     "output_type": "stream",
     "text": [
      "Epoch 2/100:  51%|█████     | 51/100 [00:21<00:21,  2.26it/s, loss=0.00506]"
     ]
    },
    {
     "name": "stdout",
     "output_type": "stream",
     "text": [
      "Error processing kaggle_data\\jazz\\jazz.00054.wav: Error opening 'kaggle_data\\\\jazz\\\\jazz.00054.wav': Format not recognised.\n"
     ]
    },
    {
     "name": "stderr",
     "output_type": "stream",
     "text": [
      "Epoch 2/100:  52%|█████▏    | 52/100 [00:22<00:19,  2.47it/s, loss=0.00506]"
     ]
    },
    {
     "name": "stdout",
     "output_type": "stream",
     "text": [
      "\u001b[91m The size of tensor a (29) must match the size of tensor b (30) at non-singleton dimension 0\u001b[00m\n"
     ]
    },
    {
     "name": "stderr",
     "output_type": "stream",
     "text": [
      "Epoch 2/100:  87%|████████▋ | 87/100 [00:37<00:05,  2.31it/s, loss=0.00472]"
     ]
    },
    {
     "name": "stdout",
     "output_type": "stream",
     "text": [
      "Error processing kaggle_data\\jazz\\jazz.00054.wav: Error opening 'kaggle_data\\\\jazz\\\\jazz.00054.wav': Format not recognised.\n"
     ]
    },
    {
     "name": "stderr",
     "output_type": "stream",
     "text": [
      "Epoch 2/100:  88%|████████▊ | 88/100 [00:37<00:04,  2.49it/s, loss=0.00472]"
     ]
    },
    {
     "name": "stdout",
     "output_type": "stream",
     "text": [
      "\u001b[91m The size of tensor a (29) must match the size of tensor b (30) at non-singleton dimension 0\u001b[00m\n"
     ]
    },
    {
     "name": "stderr",
     "output_type": "stream",
     "text": [
      "Epoch 2/100: 100%|██████████| 100/100 [00:42<00:00,  2.33it/s, loss=0.00443]\n"
     ]
    },
    {
     "name": "stdout",
     "output_type": "stream",
     "text": [
      "\u001b[92m \n",
      "Checkpoint saved at epoch 2\u001b[00m\n",
      "\u001b[94m Epoch 2 average loss: 0.0044\u001b[00m\n"
     ]
    },
    {
     "name": "stderr",
     "output_type": "stream",
     "text": [
      "Epoch 3/100:  12%|█▏        | 12/100 [00:05<00:35,  2.49it/s, loss=0.00429]"
     ]
    },
    {
     "name": "stdout",
     "output_type": "stream",
     "text": [
      "Error processing kaggle_data\\jazz\\jazz.00054.wav: Error opening 'kaggle_data\\\\jazz\\\\jazz.00054.wav': Format not recognised.\n",
      "\u001b[91m The size of tensor a (29) must match the size of tensor b (30) at non-singleton dimension 0\u001b[00m\n"
     ]
    },
    {
     "name": "stderr",
     "output_type": "stream",
     "text": [
      "Epoch 3/100:  22%|██▏       | 22/100 [00:09<00:31,  2.50it/s, loss=0.00385]"
     ]
    },
    {
     "name": "stdout",
     "output_type": "stream",
     "text": [
      "Error processing kaggle_data\\jazz\\jazz.00054.wav: Error opening 'kaggle_data\\\\jazz\\\\jazz.00054.wav': Format not recognised.\n",
      "\u001b[91m The size of tensor a (29) must match the size of tensor b (30) at non-singleton dimension 0\u001b[00m\n"
     ]
    },
    {
     "name": "stderr",
     "output_type": "stream",
     "text": [
      "Epoch 3/100:  47%|████▋     | 47/100 [00:20<00:23,  2.29it/s, loss=0.00346]"
     ]
    },
    {
     "name": "stdout",
     "output_type": "stream",
     "text": [
      "Error processing kaggle_data\\jazz\\jazz.00054.wav: Error opening 'kaggle_data\\\\jazz\\\\jazz.00054.wav': Format not recognised.\n"
     ]
    },
    {
     "name": "stderr",
     "output_type": "stream",
     "text": [
      "Epoch 3/100:  48%|████▊     | 48/100 [00:20<00:20,  2.49it/s, loss=0.00346]"
     ]
    },
    {
     "name": "stdout",
     "output_type": "stream",
     "text": [
      "\u001b[91m The size of tensor a (29) must match the size of tensor b (30) at non-singleton dimension 0\u001b[00m\n"
     ]
    },
    {
     "name": "stderr",
     "output_type": "stream",
     "text": [
      "Epoch 3/100: 100%|██████████| 100/100 [00:43<00:00,  2.29it/s, loss=0.00359]\n"
     ]
    },
    {
     "name": "stdout",
     "output_type": "stream",
     "text": [
      "\u001b[92m \n",
      "Checkpoint saved at epoch 3\u001b[00m\n",
      "\u001b[94m Epoch 3 average loss: 0.0036\u001b[00m\n"
     ]
    },
    {
     "name": "stderr",
     "output_type": "stream",
     "text": [
      "Epoch 4/100:  35%|███▌      | 35/100 [00:15<00:26,  2.46it/s, loss=0.00405]"
     ]
    },
    {
     "name": "stdout",
     "output_type": "stream",
     "text": [
      "Error processing kaggle_data\\jazz\\jazz.00054.wav: Error opening 'kaggle_data\\\\jazz\\\\jazz.00054.wav': Format not recognised.\n",
      "\u001b[91m The size of tensor a (29) must match the size of tensor b (30) at non-singleton dimension 0\u001b[00m\n"
     ]
    },
    {
     "name": "stderr",
     "output_type": "stream",
     "text": [
      "Epoch 4/100:  84%|████████▍ | 84/100 [00:37<00:07,  2.26it/s, loss=0.00399]"
     ]
    },
    {
     "name": "stdout",
     "output_type": "stream",
     "text": [
      "Error processing kaggle_data\\jazz\\jazz.00054.wav: Error opening 'kaggle_data\\\\jazz\\\\jazz.00054.wav': Format not recognised.\n"
     ]
    },
    {
     "name": "stderr",
     "output_type": "stream",
     "text": [
      "Epoch 4/100:  85%|████████▌ | 85/100 [00:37<00:06,  2.45it/s, loss=0.00399]"
     ]
    },
    {
     "name": "stdout",
     "output_type": "stream",
     "text": [
      "\u001b[91m The size of tensor a (29) must match the size of tensor b (30) at non-singleton dimension 0\u001b[00m\n"
     ]
    },
    {
     "name": "stderr",
     "output_type": "stream",
     "text": [
      "Epoch 4/100: 100%|██████████| 100/100 [00:44<00:00,  2.27it/s, loss=0.00399]\n"
     ]
    },
    {
     "name": "stdout",
     "output_type": "stream",
     "text": [
      "\u001b[92m \n",
      "Checkpoint saved at epoch 4\u001b[00m\n",
      "\u001b[94m Epoch 4 average loss: 0.0040\u001b[00m\n"
     ]
    },
    {
     "name": "stderr",
     "output_type": "stream",
     "text": [
      "Epoch 5/100:  15%|█▌        | 15/100 [00:06<00:34,  2.47it/s, loss=0.00254]"
     ]
    },
    {
     "name": "stdout",
     "output_type": "stream",
     "text": [
      "Error processing kaggle_data\\jazz\\jazz.00054.wav: Error opening 'kaggle_data\\\\jazz\\\\jazz.00054.wav': Format not recognised.\n",
      "\u001b[91m The size of tensor a (29) must match the size of tensor b (30) at non-singleton dimension 0\u001b[00m\n"
     ]
    },
    {
     "name": "stderr",
     "output_type": "stream",
     "text": [
      "Epoch 5/100:  83%|████████▎ | 83/100 [00:36<00:06,  2.43it/s, loss=0.0035] "
     ]
    },
    {
     "name": "stdout",
     "output_type": "stream",
     "text": [
      "Error processing kaggle_data\\jazz\\jazz.00054.wav: Error opening 'kaggle_data\\\\jazz\\\\jazz.00054.wav': Format not recognised.\n",
      "\u001b[91m The size of tensor a (29) must match the size of tensor b (30) at non-singleton dimension 0\u001b[00m\n"
     ]
    },
    {
     "name": "stderr",
     "output_type": "stream",
     "text": [
      "Epoch 5/100:  96%|█████████▌| 96/100 [00:42<00:01,  2.45it/s, loss=0.00356]"
     ]
    },
    {
     "name": "stdout",
     "output_type": "stream",
     "text": [
      "Error processing kaggle_data\\jazz\\jazz.00054.wav: Error opening 'kaggle_data\\\\jazz\\\\jazz.00054.wav': Format not recognised.\n",
      "\u001b[91m The size of tensor a (29) must match the size of tensor b (30) at non-singleton dimension 0\u001b[00m\n"
     ]
    },
    {
     "name": "stderr",
     "output_type": "stream",
     "text": [
      "Epoch 5/100: 100%|██████████| 100/100 [00:44<00:00,  2.26it/s, loss=0.00351]\n"
     ]
    },
    {
     "name": "stdout",
     "output_type": "stream",
     "text": [
      "\u001b[92m \n",
      "Checkpoint saved at epoch 5\u001b[00m\n",
      "\u001b[94m Epoch 5 average loss: 0.0035\u001b[00m\n"
     ]
    },
    {
     "name": "stderr",
     "output_type": "stream",
     "text": [
      "Epoch 6/100:  15%|█▌        | 15/100 [00:06<00:37,  2.24it/s, loss=0.00455]"
     ]
    },
    {
     "name": "stdout",
     "output_type": "stream",
     "text": [
      "Error processing kaggle_data\\jazz\\jazz.00054.wav: Error opening 'kaggle_data\\\\jazz\\\\jazz.00054.wav': Format not recognised.\n"
     ]
    },
    {
     "name": "stderr",
     "output_type": "stream",
     "text": [
      "Epoch 6/100:  16%|█▌        | 16/100 [00:07<00:34,  2.41it/s, loss=0.00455]"
     ]
    },
    {
     "name": "stdout",
     "output_type": "stream",
     "text": [
      "\u001b[91m The size of tensor a (29) must match the size of tensor b (30) at non-singleton dimension 0\u001b[00m\n"
     ]
    },
    {
     "name": "stderr",
     "output_type": "stream",
     "text": [
      "Epoch 6/100:  17%|█▋        | 17/100 [00:07<00:33,  2.50it/s, loss=0.00455]"
     ]
    },
    {
     "name": "stdout",
     "output_type": "stream",
     "text": [
      "Error processing kaggle_data\\jazz\\jazz.00054.wav: Error opening 'kaggle_data\\\\jazz\\\\jazz.00054.wav': Format not recognised.\n",
      "\u001b[91m The size of tensor a (29) must match the size of tensor b (30) at non-singleton dimension 0\u001b[00m\n"
     ]
    },
    {
     "name": "stderr",
     "output_type": "stream",
     "text": [
      "Epoch 6/100:  20%|██        | 20/100 [00:08<00:35,  2.28it/s, loss=0.00433]"
     ]
    },
    {
     "name": "stdout",
     "output_type": "stream",
     "text": [
      "Error processing kaggle_data\\jazz\\jazz.00054.wav: Error opening 'kaggle_data\\\\jazz\\\\jazz.00054.wav': Format not recognised.\n"
     ]
    },
    {
     "name": "stderr",
     "output_type": "stream",
     "text": [
      "Epoch 6/100:  21%|██        | 21/100 [00:09<00:33,  2.34it/s, loss=0.00433]"
     ]
    },
    {
     "name": "stdout",
     "output_type": "stream",
     "text": [
      "\u001b[91m The size of tensor a (29) must match the size of tensor b (30) at non-singleton dimension 0\u001b[00m\n"
     ]
    },
    {
     "name": "stderr",
     "output_type": "stream",
     "text": [
      "Epoch 6/100:  42%|████▏     | 42/100 [00:18<00:25,  2.24it/s, loss=0.00464]"
     ]
    },
    {
     "name": "stdout",
     "output_type": "stream",
     "text": [
      "Error processing kaggle_data\\jazz\\jazz.00054.wav: Error opening 'kaggle_data\\\\jazz\\\\jazz.00054.wav': Format not recognised.\n"
     ]
    },
    {
     "name": "stderr",
     "output_type": "stream",
     "text": [
      "Epoch 6/100:  43%|████▎     | 43/100 [00:18<00:23,  2.41it/s, loss=0.00464]"
     ]
    },
    {
     "name": "stdout",
     "output_type": "stream",
     "text": [
      "\u001b[91m The size of tensor a (29) must match the size of tensor b (30) at non-singleton dimension 0\u001b[00m\n"
     ]
    },
    {
     "name": "stderr",
     "output_type": "stream",
     "text": [
      "Epoch 6/100:  51%|█████     | 51/100 [00:22<00:20,  2.45it/s, loss=0.00455]"
     ]
    },
    {
     "name": "stdout",
     "output_type": "stream",
     "text": [
      "Error processing kaggle_data\\jazz\\jazz.00054.wav: Error opening 'kaggle_data\\\\jazz\\\\jazz.00054.wav': Format not recognised.\n",
      "\u001b[91m The size of tensor a (29) must match the size of tensor b (30) at non-singleton dimension 0\u001b[00m\n"
     ]
    },
    {
     "name": "stderr",
     "output_type": "stream",
     "text": [
      "Epoch 6/100:  91%|█████████ | 91/100 [00:40<00:04,  2.22it/s, loss=0.00523]"
     ]
    },
    {
     "name": "stdout",
     "output_type": "stream",
     "text": [
      "Error processing kaggle_data\\jazz\\jazz.00054.wav: Error opening 'kaggle_data\\\\jazz\\\\jazz.00054.wav': Format not recognised.\n",
      "\u001b[91m The size of tensor a (29) must match the size of tensor b (30) at non-singleton dimension 0\u001b[00m\n"
     ]
    },
    {
     "name": "stderr",
     "output_type": "stream",
     "text": [
      "Epoch 6/100: 100%|██████████| 100/100 [00:44<00:00,  2.25it/s, loss=0.00517]\n"
     ]
    },
    {
     "name": "stdout",
     "output_type": "stream",
     "text": [
      "\u001b[92m \n",
      "Checkpoint saved at epoch 6\u001b[00m\n",
      "\u001b[94m Epoch 6 average loss: 0.0052\u001b[00m\n"
     ]
    },
    {
     "name": "stderr",
     "output_type": "stream",
     "text": [
      "Epoch 7/100:  20%|██        | 20/100 [00:08<00:32,  2.44it/s, loss=0.005]  "
     ]
    },
    {
     "name": "stdout",
     "output_type": "stream",
     "text": [
      "Error processing kaggle_data\\jazz\\jazz.00054.wav: Error opening 'kaggle_data\\\\jazz\\\\jazz.00054.wav': Format not recognised.\n",
      "\u001b[91m The size of tensor a (29) must match the size of tensor b (30) at non-singleton dimension 0\u001b[00m\n"
     ]
    },
    {
     "name": "stderr",
     "output_type": "stream",
     "text": [
      "Epoch 7/100: 100%|██████████| 100/100 [00:44<00:00,  2.23it/s, loss=0.00421]\n"
     ]
    },
    {
     "name": "stdout",
     "output_type": "stream",
     "text": [
      "\u001b[92m \n",
      "Checkpoint saved at epoch 7\u001b[00m\n",
      "\u001b[94m Epoch 7 average loss: 0.0042\u001b[00m\n"
     ]
    },
    {
     "name": "stderr",
     "output_type": "stream",
     "text": [
      "Epoch 8/100:  27%|██▋       | 27/100 [00:12<00:30,  2.41it/s, loss=0.00449]"
     ]
    },
    {
     "name": "stdout",
     "output_type": "stream",
     "text": [
      "Error processing kaggle_data\\jazz\\jazz.00054.wav: Error opening 'kaggle_data\\\\jazz\\\\jazz.00054.wav': Format not recognised.\n",
      "\u001b[91m The size of tensor a (29) must match the size of tensor b (30) at non-singleton dimension 0\u001b[00m\n"
     ]
    },
    {
     "name": "stderr",
     "output_type": "stream",
     "text": [
      "Epoch 8/100:  49%|████▉     | 49/100 [00:22<00:21,  2.42it/s, loss=0.00368]"
     ]
    },
    {
     "name": "stdout",
     "output_type": "stream",
     "text": [
      "Error processing kaggle_data\\jazz\\jazz.00054.wav: Error opening 'kaggle_data\\\\jazz\\\\jazz.00054.wav': Format not recognised.\n",
      "\u001b[91m The size of tensor a (29) must match the size of tensor b (30) at non-singleton dimension 0\u001b[00m\n"
     ]
    },
    {
     "name": "stderr",
     "output_type": "stream",
     "text": [
      "Epoch 8/100:  55%|█████▌    | 55/100 [00:24<00:18,  2.43it/s, loss=0.00373]"
     ]
    },
    {
     "name": "stdout",
     "output_type": "stream",
     "text": [
      "Error processing kaggle_data\\jazz\\jazz.00054.wav: Error opening 'kaggle_data\\\\jazz\\\\jazz.00054.wav': Format not recognised.\n",
      "\u001b[91m The size of tensor a (29) must match the size of tensor b (30) at non-singleton dimension 0\u001b[00m\n",
      "Error processing kaggle_data\\jazz\\jazz.00054.wav: Error opening 'kaggle_data\\\\jazz\\\\jazz.00054.wav': Format not recognised.\n"
     ]
    },
    {
     "name": "stderr",
     "output_type": "stream",
     "text": [
      "Epoch 8/100:  56%|█████▌    | 56/100 [00:24<00:17,  2.51it/s, loss=0.00373]"
     ]
    },
    {
     "name": "stdout",
     "output_type": "stream",
     "text": [
      "\u001b[91m The size of tensor a (29) must match the size of tensor b (30) at non-singleton dimension 0\u001b[00m\n"
     ]
    },
    {
     "name": "stderr",
     "output_type": "stream",
     "text": [
      "Epoch 8/100:  58%|█████▊    | 58/100 [00:25<00:18,  2.26it/s, loss=0.00362]"
     ]
    },
    {
     "name": "stdout",
     "output_type": "stream",
     "text": [
      "Error processing kaggle_data\\jazz\\jazz.00054.wav: Error opening 'kaggle_data\\\\jazz\\\\jazz.00054.wav': Format not recognised.\n"
     ]
    },
    {
     "name": "stderr",
     "output_type": "stream",
     "text": [
      "Epoch 8/100:  59%|█████▉    | 59/100 [00:26<00:16,  2.44it/s, loss=0.00362]"
     ]
    },
    {
     "name": "stdout",
     "output_type": "stream",
     "text": [
      "\u001b[91m The size of tensor a (29) must match the size of tensor b (30) at non-singleton dimension 0\u001b[00m\n"
     ]
    },
    {
     "name": "stderr",
     "output_type": "stream",
     "text": [
      "Epoch 8/100:  60%|██████    | 60/100 [00:26<00:17,  2.32it/s, loss=0.00359]"
     ]
    },
    {
     "name": "stdout",
     "output_type": "stream",
     "text": [
      "Error processing kaggle_data\\jazz\\jazz.00054.wav: Error opening 'kaggle_data\\\\jazz\\\\jazz.00054.wav': Format not recognised.\n"
     ]
    },
    {
     "name": "stderr",
     "output_type": "stream",
     "text": [
      "Epoch 8/100:  61%|██████    | 61/100 [00:27<00:15,  2.49it/s, loss=0.00359]"
     ]
    },
    {
     "name": "stdout",
     "output_type": "stream",
     "text": [
      "\u001b[91m The size of tensor a (29) must match the size of tensor b (30) at non-singleton dimension 0\u001b[00m\n"
     ]
    },
    {
     "name": "stderr",
     "output_type": "stream",
     "text": [
      "Epoch 8/100:  67%|██████▋   | 67/100 [00:29<00:14,  2.24it/s, loss=0.00375]"
     ]
    },
    {
     "name": "stdout",
     "output_type": "stream",
     "text": [
      "Error processing kaggle_data\\jazz\\jazz.00054.wav: Error opening 'kaggle_data\\\\jazz\\\\jazz.00054.wav': Format not recognised.\n"
     ]
    },
    {
     "name": "stderr",
     "output_type": "stream",
     "text": [
      "Epoch 8/100:  68%|██████▊   | 68/100 [00:30<00:13,  2.41it/s, loss=0.00375]"
     ]
    },
    {
     "name": "stdout",
     "output_type": "stream",
     "text": [
      "\u001b[91m The size of tensor a (29) must match the size of tensor b (30) at non-singleton dimension 0\u001b[00m\n"
     ]
    },
    {
     "name": "stderr",
     "output_type": "stream",
     "text": [
      "Epoch 8/100:  99%|█████████▉| 99/100 [00:44<00:00,  2.23it/s, loss=0.00366]"
     ]
    },
    {
     "name": "stdout",
     "output_type": "stream",
     "text": [
      "Error processing kaggle_data\\jazz\\jazz.00054.wav: Error opening 'kaggle_data\\\\jazz\\\\jazz.00054.wav': Format not recognised.\n"
     ]
    },
    {
     "name": "stderr",
     "output_type": "stream",
     "text": [
      "Epoch 8/100: 100%|██████████| 100/100 [00:44<00:00,  2.25it/s, loss=0.00366]\n"
     ]
    },
    {
     "name": "stdout",
     "output_type": "stream",
     "text": [
      "\u001b[91m The size of tensor a (29) must match the size of tensor b (30) at non-singleton dimension 0\u001b[00m\n",
      "\u001b[92m \n",
      "Checkpoint saved at epoch 8\u001b[00m\n",
      "\u001b[94m Epoch 8 average loss: 0.0037\u001b[00m\n"
     ]
    },
    {
     "name": "stderr",
     "output_type": "stream",
     "text": [
      "Epoch 9/100:  12%|█▏        | 12/100 [00:05<00:39,  2.22it/s, loss=0.0045] "
     ]
    },
    {
     "name": "stdout",
     "output_type": "stream",
     "text": [
      "Error processing kaggle_data\\jazz\\jazz.00054.wav: Error opening 'kaggle_data\\\\jazz\\\\jazz.00054.wav': Format not recognised.\n"
     ]
    },
    {
     "name": "stderr",
     "output_type": "stream",
     "text": [
      "Epoch 9/100:  13%|█▎        | 13/100 [00:05<00:36,  2.38it/s, loss=0.0045]"
     ]
    },
    {
     "name": "stdout",
     "output_type": "stream",
     "text": [
      "\u001b[91m The size of tensor a (29) must match the size of tensor b (30) at non-singleton dimension 0\u001b[00m\n"
     ]
    },
    {
     "name": "stderr",
     "output_type": "stream",
     "text": [
      "Epoch 9/100:  18%|█▊        | 18/100 [00:07<00:33,  2.43it/s, loss=0.00433]"
     ]
    },
    {
     "name": "stdout",
     "output_type": "stream",
     "text": [
      "Error processing kaggle_data\\jazz\\jazz.00054.wav: Error opening 'kaggle_data\\\\jazz\\\\jazz.00054.wav': Format not recognised.\n",
      "\u001b[91m The size of tensor a (29) must match the size of tensor b (30) at non-singleton dimension 0\u001b[00m\n"
     ]
    },
    {
     "name": "stderr",
     "output_type": "stream",
     "text": [
      "Epoch 9/100:  22%|██▏       | 22/100 [00:09<00:32,  2.43it/s, loss=0.00423]"
     ]
    },
    {
     "name": "stdout",
     "output_type": "stream",
     "text": [
      "Error processing kaggle_data\\jazz\\jazz.00054.wav: Error opening 'kaggle_data\\\\jazz\\\\jazz.00054.wav': Format not recognised.\n",
      "\u001b[91m The size of tensor a (29) must match the size of tensor b (30) at non-singleton dimension 0\u001b[00m\n"
     ]
    },
    {
     "name": "stderr",
     "output_type": "stream",
     "text": [
      "Epoch 9/100:  44%|████▍     | 44/100 [00:19<00:25,  2.22it/s, loss=0.00388]"
     ]
    },
    {
     "name": "stdout",
     "output_type": "stream",
     "text": [
      "Error processing kaggle_data\\jazz\\jazz.00054.wav: Error opening 'kaggle_data\\\\jazz\\\\jazz.00054.wav': Format not recognised.\n"
     ]
    },
    {
     "name": "stderr",
     "output_type": "stream",
     "text": [
      "Epoch 9/100:  45%|████▌     | 45/100 [00:19<00:22,  2.40it/s, loss=0.00388]"
     ]
    },
    {
     "name": "stdout",
     "output_type": "stream",
     "text": [
      "\u001b[91m The size of tensor a (29) must match the size of tensor b (30) at non-singleton dimension 0\u001b[00m\n"
     ]
    },
    {
     "name": "stderr",
     "output_type": "stream",
     "text": [
      "Epoch 9/100: 100%|██████████| 100/100 [00:45<00:00,  2.22it/s, loss=0.0032]\n"
     ]
    },
    {
     "name": "stdout",
     "output_type": "stream",
     "text": [
      "\u001b[92m \n",
      "Checkpoint saved at epoch 9\u001b[00m\n",
      "\u001b[94m Epoch 9 average loss: 0.0032\u001b[00m\n"
     ]
    },
    {
     "name": "stderr",
     "output_type": "stream",
     "text": [
      "Epoch 10/100:  24%|██▍       | 24/100 [00:10<00:32,  2.32it/s, loss=0.00419]"
     ]
    },
    {
     "name": "stdout",
     "output_type": "stream",
     "text": [
      "Error processing kaggle_data\\jazz\\jazz.00054.wav: Error opening 'kaggle_data\\\\jazz\\\\jazz.00054.wav': Format not recognised.\n",
      "\u001b[91m The size of tensor a (29) must match the size of tensor b (30) at non-singleton dimension 0\u001b[00m\n"
     ]
    },
    {
     "name": "stderr",
     "output_type": "stream",
     "text": [
      "Epoch 10/100:  45%|████▌     | 45/100 [00:20<00:23,  2.37it/s, loss=0.00385]"
     ]
    },
    {
     "name": "stdout",
     "output_type": "stream",
     "text": [
      "Error processing kaggle_data\\jazz\\jazz.00054.wav: Error opening 'kaggle_data\\\\jazz\\\\jazz.00054.wav': Format not recognised.\n",
      "\u001b[91m The size of tensor a (29) must match the size of tensor b (30) at non-singleton dimension 0\u001b[00m\n"
     ]
    },
    {
     "name": "stderr",
     "output_type": "stream",
     "text": [
      "Epoch 10/100: 100%|██████████| 100/100 [00:45<00:00,  2.21it/s, loss=0.00323]\n"
     ]
    },
    {
     "name": "stdout",
     "output_type": "stream",
     "text": [
      "\u001b[92m \n",
      "Checkpoint saved at epoch 10\u001b[00m\n",
      "\u001b[94m Epoch 10 average loss: 0.0032\u001b[00m\n"
     ]
    },
    {
     "name": "stderr",
     "output_type": "stream",
     "text": [
      "Epoch 11/100:   9%|▉         | 9/100 [00:03<00:37,  2.41it/s, loss=0.00276]"
     ]
    },
    {
     "name": "stdout",
     "output_type": "stream",
     "text": [
      "Error processing kaggle_data\\jazz\\jazz.00054.wav: Error opening 'kaggle_data\\\\jazz\\\\jazz.00054.wav': Format not recognised.\n",
      "\u001b[91m The size of tensor a (29) must match the size of tensor b (30) at non-singleton dimension 0\u001b[00m\n"
     ]
    },
    {
     "name": "stderr",
     "output_type": "stream",
     "text": [
      "Epoch 11/100:  12%|█▏        | 12/100 [00:05<00:36,  2.43it/s, loss=0.00302]"
     ]
    },
    {
     "name": "stdout",
     "output_type": "stream",
     "text": [
      "Error processing kaggle_data\\jazz\\jazz.00054.wav: Error opening 'kaggle_data\\\\jazz\\\\jazz.00054.wav': Format not recognised.\n",
      "\u001b[91m The size of tensor a (29) must match the size of tensor b (30) at non-singleton dimension 0\u001b[00m\n"
     ]
    },
    {
     "name": "stderr",
     "output_type": "stream",
     "text": [
      "Epoch 11/100:  47%|████▋     | 47/100 [00:20<00:22,  2.38it/s, loss=0.00329]"
     ]
    },
    {
     "name": "stdout",
     "output_type": "stream",
     "text": [
      "Error processing kaggle_data\\jazz\\jazz.00054.wav: Error opening 'kaggle_data\\\\jazz\\\\jazz.00054.wav': Format not recognised.\n",
      "\u001b[91m The size of tensor a (29) must match the size of tensor b (30) at non-singleton dimension 0\u001b[00m\n"
     ]
    },
    {
     "name": "stderr",
     "output_type": "stream",
     "text": [
      "Epoch 11/100:  57%|█████▋    | 57/100 [00:25<00:19,  2.22it/s, loss=0.00299]"
     ]
    },
    {
     "name": "stdout",
     "output_type": "stream",
     "text": [
      "Error processing kaggle_data\\jazz\\jazz.00054.wav: Error opening 'kaggle_data\\\\jazz\\\\jazz.00054.wav': Format not recognised.\n"
     ]
    },
    {
     "name": "stderr",
     "output_type": "stream",
     "text": [
      "Epoch 11/100:  58%|█████▊    | 58/100 [00:25<00:17,  2.37it/s, loss=0.00299]"
     ]
    },
    {
     "name": "stdout",
     "output_type": "stream",
     "text": [
      "\u001b[91m The size of tensor a (29) must match the size of tensor b (30) at non-singleton dimension 0\u001b[00m\n"
     ]
    },
    {
     "name": "stderr",
     "output_type": "stream",
     "text": [
      "Epoch 11/100:  72%|███████▏  | 72/100 [00:32<00:12,  2.21it/s, loss=0.00277]"
     ]
    },
    {
     "name": "stdout",
     "output_type": "stream",
     "text": [
      "Error processing kaggle_data\\jazz\\jazz.00054.wav: Error opening 'kaggle_data\\\\jazz\\\\jazz.00054.wav': Format not recognised.\n"
     ]
    },
    {
     "name": "stderr",
     "output_type": "stream",
     "text": [
      "Epoch 11/100:  73%|███████▎  | 73/100 [00:32<00:11,  2.40it/s, loss=0.00277]"
     ]
    },
    {
     "name": "stdout",
     "output_type": "stream",
     "text": [
      "\u001b[91m The size of tensor a (29) must match the size of tensor b (30) at non-singleton dimension 0\u001b[00m\n"
     ]
    },
    {
     "name": "stderr",
     "output_type": "stream",
     "text": [
      "Epoch 11/100: 100%|██████████| 100/100 [00:44<00:00,  2.22it/s, loss=0.00281]\n"
     ]
    },
    {
     "name": "stdout",
     "output_type": "stream",
     "text": [
      "\u001b[92m \n",
      "Checkpoint saved at epoch 11\u001b[00m\n",
      "\u001b[94m Epoch 11 average loss: 0.0028\u001b[00m\n"
     ]
    },
    {
     "name": "stderr",
     "output_type": "stream",
     "text": [
      "Epoch 12/100:  20%|██        | 20/100 [00:08<00:33,  2.40it/s, loss=0.00205]"
     ]
    },
    {
     "name": "stdout",
     "output_type": "stream",
     "text": [
      "Error processing kaggle_data\\jazz\\jazz.00054.wav: Error opening 'kaggle_data\\\\jazz\\\\jazz.00054.wav': Format not recognised.\n",
      "\u001b[91m The size of tensor a (29) must match the size of tensor b (30) at non-singleton dimension 0\u001b[00m\n"
     ]
    },
    {
     "name": "stderr",
     "output_type": "stream",
     "text": [
      "Epoch 12/100:  86%|████████▌ | 86/100 [00:39<00:06,  2.19it/s, loss=0.0024] "
     ]
    },
    {
     "name": "stdout",
     "output_type": "stream",
     "text": [
      "Error processing kaggle_data\\jazz\\jazz.00054.wav: Error opening 'kaggle_data\\\\jazz\\\\jazz.00054.wav': Format not recognised.\n"
     ]
    },
    {
     "name": "stderr",
     "output_type": "stream",
     "text": [
      "Epoch 12/100:  87%|████████▋ | 87/100 [00:39<00:05,  2.35it/s, loss=0.0024]"
     ]
    },
    {
     "name": "stdout",
     "output_type": "stream",
     "text": [
      "\u001b[91m The size of tensor a (29) must match the size of tensor b (30) at non-singleton dimension 0\u001b[00m\n"
     ]
    },
    {
     "name": "stderr",
     "output_type": "stream",
     "text": [
      "Epoch 12/100: 100%|██████████| 100/100 [00:45<00:00,  2.40it/s, loss=0.00241]"
     ]
    },
    {
     "name": "stdout",
     "output_type": "stream",
     "text": [
      "Error processing kaggle_data\\jazz\\jazz.00054.wav: Error opening 'kaggle_data\\\\jazz\\\\jazz.00054.wav': Format not recognised.\n",
      "\u001b[91m The size of tensor a (29) must match the size of tensor b (30) at non-singleton dimension 0\u001b[00m\n"
     ]
    },
    {
     "name": "stderr",
     "output_type": "stream",
     "text": [
      "Epoch 12/100: 100%|██████████| 100/100 [00:45<00:00,  2.21it/s, loss=0.00241]\n"
     ]
    },
    {
     "name": "stdout",
     "output_type": "stream",
     "text": [
      "\u001b[92m \n",
      "Checkpoint saved at epoch 12\u001b[00m\n",
      "\u001b[94m Epoch 12 average loss: 0.0024\u001b[00m\n"
     ]
    },
    {
     "name": "stderr",
     "output_type": "stream",
     "text": [
      "Epoch 13/100:  53%|█████▎    | 53/100 [00:24<00:19,  2.40it/s, loss=0.00292]"
     ]
    },
    {
     "name": "stdout",
     "output_type": "stream",
     "text": [
      "Error processing kaggle_data\\jazz\\jazz.00054.wav: Error opening 'kaggle_data\\\\jazz\\\\jazz.00054.wav': Format not recognised.\n",
      "\u001b[91m The size of tensor a (29) must match the size of tensor b (30) at non-singleton dimension 0\u001b[00m\n"
     ]
    },
    {
     "name": "stderr",
     "output_type": "stream",
     "text": [
      "Epoch 13/100:  73%|███████▎  | 73/100 [00:33<00:12,  2.16it/s, loss=0.00298]"
     ]
    },
    {
     "name": "stdout",
     "output_type": "stream",
     "text": [
      "Error processing kaggle_data\\jazz\\jazz.00054.wav: Error opening 'kaggle_data\\\\jazz\\\\jazz.00054.wav': Format not recognised.\n",
      "\u001b[91m The size of tensor a (29) must match the size of tensor b (30) at non-singleton dimension 0\u001b[00m\n"
     ]
    },
    {
     "name": "stderr",
     "output_type": "stream",
     "text": [
      "Epoch 13/100:  96%|█████████▌| 96/100 [00:43<00:01,  2.20it/s, loss=0.00303]"
     ]
    },
    {
     "name": "stdout",
     "output_type": "stream",
     "text": [
      "Error processing kaggle_data\\jazz\\jazz.00054.wav: Error opening 'kaggle_data\\\\jazz\\\\jazz.00054.wav': Format not recognised.\n"
     ]
    },
    {
     "name": "stderr",
     "output_type": "stream",
     "text": [
      "Epoch 13/100:  97%|█████████▋| 97/100 [00:44<00:01,  2.37it/s, loss=0.00303]"
     ]
    },
    {
     "name": "stdout",
     "output_type": "stream",
     "text": [
      "\u001b[91m The size of tensor a (29) must match the size of tensor b (30) at non-singleton dimension 0\u001b[00m\n"
     ]
    },
    {
     "name": "stderr",
     "output_type": "stream",
     "text": [
      "Epoch 13/100: 100%|██████████| 100/100 [00:45<00:00,  2.19it/s, loss=0.00307]\n"
     ]
    },
    {
     "name": "stdout",
     "output_type": "stream",
     "text": [
      "\u001b[92m \n",
      "Checkpoint saved at epoch 13\u001b[00m\n",
      "\u001b[94m Epoch 13 average loss: 0.0031\u001b[00m\n"
     ]
    },
    {
     "name": "stderr",
     "output_type": "stream",
     "text": [
      "Epoch 14/100:  31%|███       | 31/100 [00:13<00:28,  2.39it/s, loss=0.00165]"
     ]
    },
    {
     "name": "stdout",
     "output_type": "stream",
     "text": [
      "Error processing kaggle_data\\jazz\\jazz.00054.wav: Error opening 'kaggle_data\\\\jazz\\\\jazz.00054.wav': Format not recognised.\n",
      "\u001b[91m The size of tensor a (29) must match the size of tensor b (30) at non-singleton dimension 0\u001b[00m\n"
     ]
    },
    {
     "name": "stderr",
     "output_type": "stream",
     "text": [
      "Epoch 14/100:  68%|██████▊   | 68/100 [00:30<00:13,  2.37it/s, loss=0.00229]"
     ]
    },
    {
     "name": "stdout",
     "output_type": "stream",
     "text": [
      "Error processing kaggle_data\\jazz\\jazz.00054.wav: Error opening 'kaggle_data\\\\jazz\\\\jazz.00054.wav': Format not recognised.\n",
      "\u001b[91m The size of tensor a (29) must match the size of tensor b (30) at non-singleton dimension 0\u001b[00m\n"
     ]
    },
    {
     "name": "stderr",
     "output_type": "stream",
     "text": [
      "Epoch 14/100:  97%|█████████▋| 97/100 [00:43<00:01,  2.35it/s, loss=0.00279]"
     ]
    },
    {
     "name": "stdout",
     "output_type": "stream",
     "text": [
      "Error processing kaggle_data\\jazz\\jazz.00054.wav: Error opening 'kaggle_data\\\\jazz\\\\jazz.00054.wav': Format not recognised.\n",
      "\u001b[91m The size of tensor a (29) must match the size of tensor b (30) at non-singleton dimension 0\u001b[00m\n"
     ]
    },
    {
     "name": "stderr",
     "output_type": "stream",
     "text": [
      "Epoch 14/100: 100%|██████████| 100/100 [00:45<00:00,  2.21it/s, loss=0.00277]\n"
     ]
    },
    {
     "name": "stdout",
     "output_type": "stream",
     "text": [
      "\u001b[92m \n",
      "Checkpoint saved at epoch 14\u001b[00m\n",
      "\u001b[94m Epoch 14 average loss: 0.0028\u001b[00m\n"
     ]
    },
    {
     "name": "stderr",
     "output_type": "stream",
     "text": [
      "Epoch 15/100:  81%|████████  | 81/100 [00:36<00:07,  2.41it/s, loss=0.00232]"
     ]
    },
    {
     "name": "stdout",
     "output_type": "stream",
     "text": [
      "Error processing kaggle_data\\jazz\\jazz.00054.wav: Error opening 'kaggle_data\\\\jazz\\\\jazz.00054.wav': Format not recognised.\n",
      "\u001b[91m The size of tensor a (29) must match the size of tensor b (30) at non-singleton dimension 0\u001b[00m\n"
     ]
    },
    {
     "name": "stderr",
     "output_type": "stream",
     "text": [
      "Epoch 15/100:  94%|█████████▍| 94/100 [00:42<00:02,  2.19it/s, loss=0.00242]"
     ]
    },
    {
     "name": "stdout",
     "output_type": "stream",
     "text": [
      "Error processing kaggle_data\\jazz\\jazz.00054.wav: Error opening 'kaggle_data\\\\jazz\\\\jazz.00054.wav': Format not recognised.\n"
     ]
    },
    {
     "name": "stderr",
     "output_type": "stream",
     "text": [
      "Epoch 15/100:  95%|█████████▌| 95/100 [00:43<00:02,  2.37it/s, loss=0.00242]"
     ]
    },
    {
     "name": "stdout",
     "output_type": "stream",
     "text": [
      "\u001b[91m The size of tensor a (29) must match the size of tensor b (30) at non-singleton dimension 0\u001b[00m\n"
     ]
    },
    {
     "name": "stderr",
     "output_type": "stream",
     "text": [
      "Epoch 15/100: 100%|██████████| 100/100 [00:45<00:00,  2.20it/s, loss=0.00236]\n"
     ]
    },
    {
     "name": "stdout",
     "output_type": "stream",
     "text": [
      "\u001b[92m \n",
      "Checkpoint saved at epoch 15\u001b[00m\n",
      "\u001b[94m Epoch 15 average loss: 0.0024\u001b[00m\n"
     ]
    },
    {
     "name": "stderr",
     "output_type": "stream",
     "text": [
      "Epoch 16/100:   1%|          | 1/100 [00:00<00:45,  2.19it/s, loss=0.00314]"
     ]
    },
    {
     "name": "stdout",
     "output_type": "stream",
     "text": [
      "Error processing kaggle_data\\jazz\\jazz.00054.wav: Error opening 'kaggle_data\\\\jazz\\\\jazz.00054.wav': Format not recognised.\n"
     ]
    },
    {
     "name": "stderr",
     "output_type": "stream",
     "text": [
      "Epoch 16/100:   2%|▏         | 2/100 [00:00<00:38,  2.55it/s, loss=0.00314]"
     ]
    },
    {
     "name": "stdout",
     "output_type": "stream",
     "text": [
      "\u001b[91m The size of tensor a (29) must match the size of tensor b (30) at non-singleton dimension 0\u001b[00m\n"
     ]
    },
    {
     "name": "stderr",
     "output_type": "stream",
     "text": [
      "Epoch 16/100:  84%|████████▍ | 84/100 [00:38<00:06,  2.35it/s, loss=0.0034] "
     ]
    },
    {
     "name": "stdout",
     "output_type": "stream",
     "text": [
      "Error processing kaggle_data\\jazz\\jazz.00054.wav: Error opening 'kaggle_data\\\\jazz\\\\jazz.00054.wav': Format not recognised.\n",
      "\u001b[91m The size of tensor a (29) must match the size of tensor b (30) at non-singleton dimension 0\u001b[00m\n"
     ]
    },
    {
     "name": "stderr",
     "output_type": "stream",
     "text": [
      "Epoch 16/100:  94%|█████████▍| 94/100 [00:42<00:02,  2.20it/s, loss=0.00341]"
     ]
    },
    {
     "name": "stdout",
     "output_type": "stream",
     "text": [
      "Error processing kaggle_data\\jazz\\jazz.00054.wav: Error opening 'kaggle_data\\\\jazz\\\\jazz.00054.wav': Format not recognised.\n",
      "\u001b[91m The size of tensor a (29) must match the size of tensor b (30) at non-singleton dimension 0\u001b[00m\n"
     ]
    },
    {
     "name": "stderr",
     "output_type": "stream",
     "text": [
      "Epoch 16/100: 100%|██████████| 100/100 [00:45<00:00,  2.20it/s, loss=0.00352]\n"
     ]
    },
    {
     "name": "stdout",
     "output_type": "stream",
     "text": [
      "\u001b[92m \n",
      "Checkpoint saved at epoch 16\u001b[00m\n",
      "\u001b[94m Epoch 16 average loss: 0.0035\u001b[00m\n"
     ]
    },
    {
     "name": "stderr",
     "output_type": "stream",
     "text": [
      "Epoch 17/100:   9%|▉         | 9/100 [00:04<00:38,  2.35it/s, loss=0.00419]"
     ]
    },
    {
     "name": "stdout",
     "output_type": "stream",
     "text": [
      "Error processing kaggle_data\\jazz\\jazz.00054.wav: Error opening 'kaggle_data\\\\jazz\\\\jazz.00054.wav': Format not recognised.\n",
      "\u001b[91m The size of tensor a (29) must match the size of tensor b (30) at non-singleton dimension 0\u001b[00m\n"
     ]
    },
    {
     "name": "stderr",
     "output_type": "stream",
     "text": [
      "Epoch 17/100:  18%|█▊        | 18/100 [00:08<00:34,  2.37it/s, loss=0.00374]"
     ]
    },
    {
     "name": "stdout",
     "output_type": "stream",
     "text": [
      "Error processing kaggle_data\\jazz\\jazz.00054.wav: Error opening 'kaggle_data\\\\jazz\\\\jazz.00054.wav': Format not recognised.\n",
      "\u001b[91m The size of tensor a (29) must match the size of tensor b (30) at non-singleton dimension 0\u001b[00m\n"
     ]
    },
    {
     "name": "stderr",
     "output_type": "stream",
     "text": [
      "Epoch 17/100:  22%|██▏       | 22/100 [00:09<00:35,  2.21it/s, loss=0.00392]"
     ]
    },
    {
     "name": "stdout",
     "output_type": "stream",
     "text": [
      "Error processing kaggle_data\\jazz\\jazz.00054.wav: Error opening 'kaggle_data\\\\jazz\\\\jazz.00054.wav': Format not recognised.\n"
     ]
    },
    {
     "name": "stderr",
     "output_type": "stream",
     "text": [
      "Epoch 17/100:  23%|██▎       | 23/100 [00:10<00:32,  2.38it/s, loss=0.00392]"
     ]
    },
    {
     "name": "stdout",
     "output_type": "stream",
     "text": [
      "\u001b[91m The size of tensor a (29) must match the size of tensor b (30) at non-singleton dimension 0\u001b[00m\n"
     ]
    },
    {
     "name": "stderr",
     "output_type": "stream",
     "text": [
      "Epoch 17/100:  24%|██▍       | 24/100 [00:10<00:30,  2.45it/s, loss=0.00392]"
     ]
    },
    {
     "name": "stdout",
     "output_type": "stream",
     "text": [
      "Error processing kaggle_data\\jazz\\jazz.00054.wav: Error opening 'kaggle_data\\\\jazz\\\\jazz.00054.wav': Format not recognised.\n",
      "\u001b[91m The size of tensor a (29) must match the size of tensor b (30) at non-singleton dimension 0\u001b[00m\n"
     ]
    },
    {
     "name": "stderr",
     "output_type": "stream",
     "text": [
      "Epoch 17/100:  27%|██▋       | 27/100 [00:11<00:29,  2.45it/s, loss=0.00379]"
     ]
    },
    {
     "name": "stdout",
     "output_type": "stream",
     "text": [
      "Error processing kaggle_data\\jazz\\jazz.00054.wav: Error opening 'kaggle_data\\\\jazz\\\\jazz.00054.wav': Format not recognised.\n",
      "\u001b[91m The size of tensor a (29) must match the size of tensor b (30) at non-singleton dimension 0\u001b[00m\n"
     ]
    },
    {
     "name": "stderr",
     "output_type": "stream",
     "text": [
      "Epoch 17/100:  35%|███▌      | 35/100 [00:15<00:29,  2.21it/s, loss=0.00383]"
     ]
    },
    {
     "name": "stdout",
     "output_type": "stream",
     "text": [
      "Error processing kaggle_data\\jazz\\jazz.00054.wav: Error opening 'kaggle_data\\\\jazz\\\\jazz.00054.wav': Format not recognised.\n"
     ]
    },
    {
     "name": "stderr",
     "output_type": "stream",
     "text": [
      "Epoch 17/100:  36%|███▌      | 36/100 [00:16<00:27,  2.35it/s, loss=0.00383]"
     ]
    },
    {
     "name": "stdout",
     "output_type": "stream",
     "text": [
      "\u001b[91m The size of tensor a (29) must match the size of tensor b (30) at non-singleton dimension 0\u001b[00m\n"
     ]
    },
    {
     "name": "stderr",
     "output_type": "stream",
     "text": [
      "Epoch 17/100:  69%|██████▉   | 69/100 [00:30<00:12,  2.39it/s, loss=0.0033] "
     ]
    },
    {
     "name": "stdout",
     "output_type": "stream",
     "text": [
      "Error processing kaggle_data\\jazz\\jazz.00054.wav: Error opening 'kaggle_data\\\\jazz\\\\jazz.00054.wav': Format not recognised.\n",
      "\u001b[91m The size of tensor a (29) must match the size of tensor b (30) at non-singleton dimension 0\u001b[00m\n"
     ]
    },
    {
     "name": "stderr",
     "output_type": "stream",
     "text": [
      "Epoch 17/100:  79%|███████▉  | 79/100 [00:35<00:08,  2.37it/s, loss=0.00359]"
     ]
    },
    {
     "name": "stdout",
     "output_type": "stream",
     "text": [
      "Error processing kaggle_data\\jazz\\jazz.00054.wav: Error opening 'kaggle_data\\\\jazz\\\\jazz.00054.wav': Format not recognised.\n",
      "\u001b[91m The size of tensor a (29) must match the size of tensor b (30) at non-singleton dimension 0\u001b[00m\n"
     ]
    },
    {
     "name": "stderr",
     "output_type": "stream",
     "text": [
      "Epoch 17/100: 100%|██████████| 100/100 [00:45<00:00,  2.22it/s, loss=0.00309]\n"
     ]
    },
    {
     "name": "stdout",
     "output_type": "stream",
     "text": [
      "\u001b[92m \n",
      "Checkpoint saved at epoch 17\u001b[00m\n",
      "\u001b[94m Epoch 17 average loss: 0.0031\u001b[00m\n"
     ]
    },
    {
     "name": "stderr",
     "output_type": "stream",
     "text": [
      "Epoch 18/100:  39%|███▉      | 39/100 [00:17<00:25,  2.35it/s, loss=0.00218] "
     ]
    },
    {
     "name": "stdout",
     "output_type": "stream",
     "text": [
      "Error processing kaggle_data\\jazz\\jazz.00054.wav: Error opening 'kaggle_data\\\\jazz\\\\jazz.00054.wav': Format not recognised.\n",
      "\u001b[91m The size of tensor a (29) must match the size of tensor b (30) at non-singleton dimension 0\u001b[00m\n"
     ]
    },
    {
     "name": "stderr",
     "output_type": "stream",
     "text": [
      "Epoch 18/100:  54%|█████▍    | 54/100 [00:24<00:19,  2.37it/s, loss=0.00189]"
     ]
    },
    {
     "name": "stdout",
     "output_type": "stream",
     "text": [
      "Error processing kaggle_data\\jazz\\jazz.00054.wav: Error opening 'kaggle_data\\\\jazz\\\\jazz.00054.wav': Format not recognised.\n",
      "\u001b[91m The size of tensor a (29) must match the size of tensor b (30) at non-singleton dimension 0\u001b[00m\n"
     ]
    },
    {
     "name": "stderr",
     "output_type": "stream",
     "text": [
      "Epoch 18/100:  77%|███████▋  | 77/100 [00:35<00:10,  2.14it/s, loss=0.00181]"
     ]
    },
    {
     "name": "stdout",
     "output_type": "stream",
     "text": [
      "Error processing kaggle_data\\jazz\\jazz.00054.wav: Error opening 'kaggle_data\\\\jazz\\\\jazz.00054.wav': Format not recognised.\n"
     ]
    },
    {
     "name": "stderr",
     "output_type": "stream",
     "text": [
      "Epoch 18/100:  78%|███████▊  | 78/100 [00:35<00:09,  2.32it/s, loss=0.00181]"
     ]
    },
    {
     "name": "stdout",
     "output_type": "stream",
     "text": [
      "\u001b[91m The size of tensor a (29) must match the size of tensor b (30) at non-singleton dimension 0\u001b[00m\n"
     ]
    },
    {
     "name": "stderr",
     "output_type": "stream",
     "text": [
      "Epoch 18/100: 100%|██████████| 100/100 [00:45<00:00,  2.19it/s, loss=0.00188]\n"
     ]
    },
    {
     "name": "stdout",
     "output_type": "stream",
     "text": [
      "\u001b[92m \n",
      "Checkpoint saved at epoch 18\u001b[00m\n",
      "\u001b[94m Epoch 18 average loss: 0.0019\u001b[00m\n"
     ]
    },
    {
     "name": "stderr",
     "output_type": "stream",
     "text": [
      "Epoch 19/100:  64%|██████▍   | 64/100 [00:29<00:15,  2.35it/s, loss=0.00183]"
     ]
    },
    {
     "name": "stdout",
     "output_type": "stream",
     "text": [
      "Error processing kaggle_data\\jazz\\jazz.00054.wav: Error opening 'kaggle_data\\\\jazz\\\\jazz.00054.wav': Format not recognised.\n",
      "\u001b[91m The size of tensor a (29) must match the size of tensor b (30) at non-singleton dimension 0\u001b[00m\n"
     ]
    },
    {
     "name": "stderr",
     "output_type": "stream",
     "text": [
      "Epoch 19/100: 100%|██████████| 100/100 [00:46<00:00,  2.17it/s, loss=0.00206]\n"
     ]
    },
    {
     "name": "stdout",
     "output_type": "stream",
     "text": [
      "\u001b[92m \n",
      "Checkpoint saved at epoch 19\u001b[00m\n",
      "\u001b[94m Epoch 19 average loss: 0.0021\u001b[00m\n"
     ]
    },
    {
     "name": "stderr",
     "output_type": "stream",
     "text": [
      "Epoch 20/100:   8%|▊         | 8/100 [00:03<00:42,  2.14it/s, loss=0.00226]"
     ]
    },
    {
     "name": "stdout",
     "output_type": "stream",
     "text": [
      "Error processing kaggle_data\\jazz\\jazz.00054.wav: Error opening 'kaggle_data\\\\jazz\\\\jazz.00054.wav': Format not recognised.\n"
     ]
    },
    {
     "name": "stderr",
     "output_type": "stream",
     "text": [
      "Epoch 20/100:   9%|▉         | 9/100 [00:04<00:40,  2.27it/s, loss=0.00226]"
     ]
    },
    {
     "name": "stdout",
     "output_type": "stream",
     "text": [
      "\u001b[91m The size of tensor a (29) must match the size of tensor b (30) at non-singleton dimension 0\u001b[00m\n"
     ]
    },
    {
     "name": "stderr",
     "output_type": "stream",
     "text": [
      "Epoch 20/100:  76%|███████▌  | 76/100 [00:34<00:11,  2.17it/s, loss=0.00228]"
     ]
    },
    {
     "name": "stdout",
     "output_type": "stream",
     "text": [
      "Error processing kaggle_data\\jazz\\jazz.00054.wav: Error opening 'kaggle_data\\\\jazz\\\\jazz.00054.wav': Format not recognised.\n"
     ]
    },
    {
     "name": "stderr",
     "output_type": "stream",
     "text": [
      "Epoch 20/100:  77%|███████▋  | 77/100 [00:35<00:09,  2.34it/s, loss=0.00228]"
     ]
    },
    {
     "name": "stdout",
     "output_type": "stream",
     "text": [
      "\u001b[91m The size of tensor a (29) must match the size of tensor b (30) at non-singleton dimension 0\u001b[00m\n"
     ]
    },
    {
     "name": "stderr",
     "output_type": "stream",
     "text": [
      "Epoch 20/100:  90%|█████████ | 90/100 [00:41<00:04,  2.18it/s, loss=0.00224]"
     ]
    },
    {
     "name": "stdout",
     "output_type": "stream",
     "text": [
      "Error processing kaggle_data\\jazz\\jazz.00054.wav: Error opening 'kaggle_data\\\\jazz\\\\jazz.00054.wav': Format not recognised.\n"
     ]
    },
    {
     "name": "stderr",
     "output_type": "stream",
     "text": [
      "Epoch 20/100:  91%|█████████ | 91/100 [00:41<00:03,  2.34it/s, loss=0.00224]"
     ]
    },
    {
     "name": "stdout",
     "output_type": "stream",
     "text": [
      "\u001b[91m The size of tensor a (29) must match the size of tensor b (30) at non-singleton dimension 0\u001b[00m\n"
     ]
    },
    {
     "name": "stderr",
     "output_type": "stream",
     "text": [
      "Epoch 20/100: 100%|██████████| 100/100 [00:45<00:00,  2.19it/s, loss=0.00229]\n"
     ]
    },
    {
     "name": "stdout",
     "output_type": "stream",
     "text": [
      "\u001b[92m \n",
      "Checkpoint saved at epoch 20\u001b[00m\n",
      "\u001b[94m Epoch 20 average loss: 0.0023\u001b[00m\n"
     ]
    },
    {
     "name": "stderr",
     "output_type": "stream",
     "text": [
      "Epoch 21/100:  14%|█▍        | 14/100 [00:06<00:39,  2.17it/s, loss=0.00167]"
     ]
    },
    {
     "name": "stdout",
     "output_type": "stream",
     "text": [
      "Error processing kaggle_data\\jazz\\jazz.00054.wav: Error opening 'kaggle_data\\\\jazz\\\\jazz.00054.wav': Format not recognised.\n"
     ]
    },
    {
     "name": "stderr",
     "output_type": "stream",
     "text": [
      "Epoch 21/100:  15%|█▌        | 15/100 [00:06<00:36,  2.32it/s, loss=0.00167]"
     ]
    },
    {
     "name": "stdout",
     "output_type": "stream",
     "text": [
      "\u001b[91m The size of tensor a (29) must match the size of tensor b (30) at non-singleton dimension 0\u001b[00m\n"
     ]
    },
    {
     "name": "stderr",
     "output_type": "stream",
     "text": [
      "Epoch 21/100:  24%|██▍       | 24/100 [00:11<00:34,  2.18it/s, loss=0.0019] "
     ]
    },
    {
     "name": "stdout",
     "output_type": "stream",
     "text": [
      "Error processing kaggle_data\\jazz\\jazz.00054.wav: Error opening 'kaggle_data\\\\jazz\\\\jazz.00054.wav': Format not recognised.\n"
     ]
    },
    {
     "name": "stderr",
     "output_type": "stream",
     "text": [
      "Epoch 21/100:  25%|██▌       | 25/100 [00:11<00:32,  2.33it/s, loss=0.0019]"
     ]
    },
    {
     "name": "stdout",
     "output_type": "stream",
     "text": [
      "\u001b[91m The size of tensor a (29) must match the size of tensor b (30) at non-singleton dimension 0\u001b[00m\n"
     ]
    },
    {
     "name": "stderr",
     "output_type": "stream",
     "text": [
      "Epoch 21/100:  26%|██▌       | 26/100 [00:11<00:33,  2.24it/s, loss=0.00187]"
     ]
    },
    {
     "name": "stdout",
     "output_type": "stream",
     "text": [
      "Error processing kaggle_data\\jazz\\jazz.00054.wav: Error opening 'kaggle_data\\\\jazz\\\\jazz.00054.wav': Format not recognised.\n"
     ]
    },
    {
     "name": "stderr",
     "output_type": "stream",
     "text": [
      "Epoch 21/100:  27%|██▋       | 27/100 [00:12<00:30,  2.40it/s, loss=0.00187]"
     ]
    },
    {
     "name": "stdout",
     "output_type": "stream",
     "text": [
      "\u001b[91m The size of tensor a (29) must match the size of tensor b (30) at non-singleton dimension 0\u001b[00m\n"
     ]
    },
    {
     "name": "stderr",
     "output_type": "stream",
     "text": [
      "Epoch 21/100:  88%|████████▊ | 88/100 [00:40<00:05,  2.36it/s, loss=0.00229]"
     ]
    },
    {
     "name": "stdout",
     "output_type": "stream",
     "text": [
      "Error processing kaggle_data\\jazz\\jazz.00054.wav: Error opening 'kaggle_data\\\\jazz\\\\jazz.00054.wav': Format not recognised.\n",
      "\u001b[91m The size of tensor a (29) must match the size of tensor b (30) at non-singleton dimension 0\u001b[00m\n"
     ]
    },
    {
     "name": "stderr",
     "output_type": "stream",
     "text": [
      "Epoch 21/100: 100%|██████████| 100/100 [00:45<00:00,  2.20it/s, loss=0.00216]\n"
     ]
    },
    {
     "name": "stdout",
     "output_type": "stream",
     "text": [
      "\u001b[92m \n",
      "Checkpoint saved at epoch 21\u001b[00m\n",
      "\u001b[94m Epoch 21 average loss: 0.0022\u001b[00m\n"
     ]
    },
    {
     "name": "stderr",
     "output_type": "stream",
     "text": [
      "Epoch 22/100:  26%|██▌       | 26/100 [00:11<00:33,  2.19it/s, loss=0.00135]"
     ]
    },
    {
     "name": "stdout",
     "output_type": "stream",
     "text": [
      "Error processing kaggle_data\\jazz\\jazz.00054.wav: Error opening 'kaggle_data\\\\jazz\\\\jazz.00054.wav': Format not recognised.\n"
     ]
    },
    {
     "name": "stderr",
     "output_type": "stream",
     "text": [
      "Epoch 22/100:  27%|██▋       | 27/100 [00:12<00:30,  2.37it/s, loss=0.00135]"
     ]
    },
    {
     "name": "stdout",
     "output_type": "stream",
     "text": [
      "\u001b[91m The size of tensor a (29) must match the size of tensor b (30) at non-singleton dimension 0\u001b[00m\n"
     ]
    },
    {
     "name": "stderr",
     "output_type": "stream",
     "text": [
      "Epoch 22/100:  67%|██████▋   | 67/100 [00:30<00:14,  2.34it/s, loss=0.00181]"
     ]
    },
    {
     "name": "stdout",
     "output_type": "stream",
     "text": [
      "Error processing kaggle_data\\jazz\\jazz.00054.wav: Error opening 'kaggle_data\\\\jazz\\\\jazz.00054.wav': Format not recognised.\n",
      "\u001b[91m The size of tensor a (29) must match the size of tensor b (30) at non-singleton dimension 0\u001b[00m\n"
     ]
    },
    {
     "name": "stderr",
     "output_type": "stream",
     "text": [
      "Epoch 22/100:  68%|██████▊   | 68/100 [00:30<00:13,  2.43it/s, loss=0.00181]"
     ]
    },
    {
     "name": "stdout",
     "output_type": "stream",
     "text": [
      "Error processing kaggle_data\\jazz\\jazz.00054.wav: Error opening 'kaggle_data\\\\jazz\\\\jazz.00054.wav': Format not recognised.\n",
      "\u001b[91m The size of tensor a (29) must match the size of tensor b (30) at non-singleton dimension 0\u001b[00m\n"
     ]
    },
    {
     "name": "stderr",
     "output_type": "stream",
     "text": [
      "Epoch 22/100:  70%|███████   | 70/100 [00:31<00:12,  2.45it/s, loss=0.00183]"
     ]
    },
    {
     "name": "stdout",
     "output_type": "stream",
     "text": [
      "Error processing kaggle_data\\jazz\\jazz.00054.wav: Error opening 'kaggle_data\\\\jazz\\\\jazz.00054.wav': Format not recognised.\n",
      "\u001b[91m The size of tensor a (29) must match the size of tensor b (30) at non-singleton dimension 0\u001b[00m\n"
     ]
    },
    {
     "name": "stderr",
     "output_type": "stream",
     "text": [
      "Epoch 22/100:  91%|█████████ | 91/100 [00:41<00:04,  2.13it/s, loss=0.00198]"
     ]
    },
    {
     "name": "stdout",
     "output_type": "stream",
     "text": [
      "Error processing kaggle_data\\jazz\\jazz.00054.wav: Error opening 'kaggle_data\\\\jazz\\\\jazz.00054.wav': Format not recognised.\n"
     ]
    },
    {
     "name": "stderr",
     "output_type": "stream",
     "text": [
      "Epoch 22/100:  92%|█████████▏| 92/100 [00:41<00:03,  2.30it/s, loss=0.00198]"
     ]
    },
    {
     "name": "stdout",
     "output_type": "stream",
     "text": [
      "\u001b[91m The size of tensor a (29) must match the size of tensor b (30) at non-singleton dimension 0\u001b[00m\n"
     ]
    },
    {
     "name": "stderr",
     "output_type": "stream",
     "text": [
      "Epoch 22/100:  93%|█████████▎| 93/100 [00:42<00:03,  2.22it/s, loss=0.00197]"
     ]
    },
    {
     "name": "stdout",
     "output_type": "stream",
     "text": [
      "Error processing kaggle_data\\jazz\\jazz.00054.wav: Error opening 'kaggle_data\\\\jazz\\\\jazz.00054.wav': Format not recognised.\n"
     ]
    },
    {
     "name": "stderr",
     "output_type": "stream",
     "text": [
      "Epoch 22/100:  94%|█████████▍| 94/100 [00:42<00:02,  2.38it/s, loss=0.00197]"
     ]
    },
    {
     "name": "stdout",
     "output_type": "stream",
     "text": [
      "\u001b[91m The size of tensor a (29) must match the size of tensor b (30) at non-singleton dimension 0\u001b[00m\n"
     ]
    },
    {
     "name": "stderr",
     "output_type": "stream",
     "text": [
      "Epoch 22/100: 100%|██████████| 100/100 [00:45<00:00,  2.20it/s, loss=0.00191]\n"
     ]
    },
    {
     "name": "stdout",
     "output_type": "stream",
     "text": [
      "\u001b[92m \n",
      "Checkpoint saved at epoch 22\u001b[00m\n",
      "\u001b[94m Epoch 22 average loss: 0.0019\u001b[00m\n"
     ]
    },
    {
     "name": "stderr",
     "output_type": "stream",
     "text": [
      "Epoch 23/100:   7%|▋         | 7/100 [00:03<00:38,  2.39it/s, loss=0.00231] "
     ]
    },
    {
     "name": "stdout",
     "output_type": "stream",
     "text": [
      "Error processing kaggle_data\\jazz\\jazz.00054.wav: Error opening 'kaggle_data\\\\jazz\\\\jazz.00054.wav': Format not recognised.\n",
      "\u001b[91m The size of tensor a (29) must match the size of tensor b (30) at non-singleton dimension 0\u001b[00m\n"
     ]
    },
    {
     "name": "stderr",
     "output_type": "stream",
     "text": [
      "Epoch 23/100:  15%|█▌        | 15/100 [00:06<00:35,  2.38it/s, loss=0.00305]"
     ]
    },
    {
     "name": "stdout",
     "output_type": "stream",
     "text": [
      "Error processing kaggle_data\\jazz\\jazz.00054.wav: Error opening 'kaggle_data\\\\jazz\\\\jazz.00054.wav': Format not recognised.\n",
      "\u001b[91m The size of tensor a (29) must match the size of tensor b (30) at non-singleton dimension 0\u001b[00m\n"
     ]
    },
    {
     "name": "stderr",
     "output_type": "stream",
     "text": [
      "Epoch 23/100:  72%|███████▏  | 72/100 [00:32<00:11,  2.38it/s, loss=0.00253]"
     ]
    },
    {
     "name": "stdout",
     "output_type": "stream",
     "text": [
      "Error processing kaggle_data\\jazz\\jazz.00054.wav: Error opening 'kaggle_data\\\\jazz\\\\jazz.00054.wav': Format not recognised.\n",
      "\u001b[91m The size of tensor a (29) must match the size of tensor b (30) at non-singleton dimension 0\u001b[00m\n"
     ]
    },
    {
     "name": "stderr",
     "output_type": "stream",
     "text": [
      "Epoch 23/100: 100%|██████████| 100/100 [00:45<00:00,  2.20it/s, loss=0.00241]\n"
     ]
    },
    {
     "name": "stdout",
     "output_type": "stream",
     "text": [
      "\u001b[92m \n",
      "Checkpoint saved at epoch 23\u001b[00m\n",
      "\u001b[94m Epoch 23 average loss: 0.0024\u001b[00m\n"
     ]
    },
    {
     "name": "stderr",
     "output_type": "stream",
     "text": [
      "Epoch 24/100:  47%|████▋     | 47/100 [00:21<00:23,  2.21it/s, loss=0.00173] "
     ]
    },
    {
     "name": "stdout",
     "output_type": "stream",
     "text": [
      "Error processing kaggle_data\\jazz\\jazz.00054.wav: Error opening 'kaggle_data\\\\jazz\\\\jazz.00054.wav': Format not recognised.\n"
     ]
    },
    {
     "name": "stderr",
     "output_type": "stream",
     "text": [
      "Epoch 24/100:  48%|████▊     | 48/100 [00:21<00:22,  2.36it/s, loss=0.00173]"
     ]
    },
    {
     "name": "stdout",
     "output_type": "stream",
     "text": [
      "\u001b[91m The size of tensor a (29) must match the size of tensor b (30) at non-singleton dimension 0\u001b[00m\n"
     ]
    },
    {
     "name": "stderr",
     "output_type": "stream",
     "text": [
      "Epoch 24/100:  66%|██████▌   | 66/100 [00:30<00:14,  2.38it/s, loss=0.00153]"
     ]
    },
    {
     "name": "stdout",
     "output_type": "stream",
     "text": [
      "Error processing kaggle_data\\jazz\\jazz.00054.wav: Error opening 'kaggle_data\\\\jazz\\\\jazz.00054.wav': Format not recognised.\n",
      "\u001b[91m The size of tensor a (29) must match the size of tensor b (30) at non-singleton dimension 0\u001b[00m\n"
     ]
    },
    {
     "name": "stderr",
     "output_type": "stream",
     "text": [
      "Epoch 24/100:  91%|█████████ | 91/100 [00:41<00:03,  2.36it/s, loss=0.0018] "
     ]
    },
    {
     "name": "stdout",
     "output_type": "stream",
     "text": [
      "Error processing kaggle_data\\jazz\\jazz.00054.wav: Error opening 'kaggle_data\\\\jazz\\\\jazz.00054.wav': Format not recognised.\n",
      "\u001b[91m The size of tensor a (29) must match the size of tensor b (30) at non-singleton dimension 0\u001b[00m\n"
     ]
    },
    {
     "name": "stderr",
     "output_type": "stream",
     "text": [
      "Epoch 24/100: 100%|██████████| 100/100 [00:45<00:00,  2.19it/s, loss=0.00201]\n"
     ]
    },
    {
     "name": "stdout",
     "output_type": "stream",
     "text": [
      "\u001b[92m \n",
      "Checkpoint saved at epoch 24\u001b[00m\n",
      "\u001b[94m Epoch 24 average loss: 0.0020\u001b[00m\n"
     ]
    },
    {
     "name": "stderr",
     "output_type": "stream",
     "text": [
      "Epoch 25/100:  19%|█▉        | 19/100 [00:08<00:37,  2.19it/s, loss=0.00234]"
     ]
    },
    {
     "name": "stdout",
     "output_type": "stream",
     "text": [
      "Error processing kaggle_data\\jazz\\jazz.00054.wav: Error opening 'kaggle_data\\\\jazz\\\\jazz.00054.wav': Format not recognised.\n"
     ]
    },
    {
     "name": "stderr",
     "output_type": "stream",
     "text": [
      "Epoch 25/100:  20%|██        | 20/100 [00:09<00:34,  2.34it/s, loss=0.00234]"
     ]
    },
    {
     "name": "stdout",
     "output_type": "stream",
     "text": [
      "\u001b[91m The size of tensor a (29) must match the size of tensor b (30) at non-singleton dimension 0\u001b[00m\n"
     ]
    },
    {
     "name": "stderr",
     "output_type": "stream",
     "text": [
      "Epoch 25/100: 100%|██████████| 100/100 [00:45<00:00,  2.18it/s, loss=0.00207]\n"
     ]
    },
    {
     "name": "stdout",
     "output_type": "stream",
     "text": [
      "\u001b[92m \n",
      "Checkpoint saved at epoch 25\u001b[00m\n",
      "\u001b[94m Epoch 25 average loss: 0.0021\u001b[00m\n"
     ]
    },
    {
     "name": "stderr",
     "output_type": "stream",
     "text": [
      "Epoch 26/100:   5%|▌         | 5/100 [00:02<00:39,  2.39it/s, loss=0.000577]"
     ]
    },
    {
     "name": "stdout",
     "output_type": "stream",
     "text": [
      "Error processing kaggle_data\\jazz\\jazz.00054.wav: Error opening 'kaggle_data\\\\jazz\\\\jazz.00054.wav': Format not recognised.\n",
      "\u001b[91m The size of tensor a (29) must match the size of tensor b (30) at non-singleton dimension 0\u001b[00m\n"
     ]
    },
    {
     "name": "stderr",
     "output_type": "stream",
     "text": [
      "Epoch 26/100:  32%|███▏      | 32/100 [00:14<00:28,  2.39it/s, loss=0.00212]"
     ]
    },
    {
     "name": "stdout",
     "output_type": "stream",
     "text": [
      "Error processing kaggle_data\\jazz\\jazz.00054.wav: Error opening 'kaggle_data\\\\jazz\\\\jazz.00054.wav': Format not recognised.\n",
      "\u001b[91m The size of tensor a (29) must match the size of tensor b (30) at non-singleton dimension 0\u001b[00m\n"
     ]
    },
    {
     "name": "stderr",
     "output_type": "stream",
     "text": [
      "Epoch 26/100:  57%|█████▋    | 57/100 [00:25<00:18,  2.36it/s, loss=0.00198]"
     ]
    },
    {
     "name": "stdout",
     "output_type": "stream",
     "text": [
      "Error processing kaggle_data\\jazz\\jazz.00054.wav: Error opening 'kaggle_data\\\\jazz\\\\jazz.00054.wav': Format not recognised.\n",
      "\u001b[91m The size of tensor a (29) must match the size of tensor b (30) at non-singleton dimension 0\u001b[00m\n"
     ]
    },
    {
     "name": "stderr",
     "output_type": "stream",
     "text": [
      "Epoch 26/100: 100%|██████████| 100/100 [00:45<00:00,  2.20it/s, loss=0.00174]\n"
     ]
    },
    {
     "name": "stdout",
     "output_type": "stream",
     "text": [
      "\u001b[92m \n",
      "Checkpoint saved at epoch 26\u001b[00m\n",
      "\u001b[94m Epoch 26 average loss: 0.0017\u001b[00m\n"
     ]
    },
    {
     "name": "stderr",
     "output_type": "stream",
     "text": [
      "Epoch 27/100:  75%|███████▌  | 75/100 [00:34<00:10,  2.35it/s, loss=0.00207] "
     ]
    },
    {
     "name": "stdout",
     "output_type": "stream",
     "text": [
      "Error processing kaggle_data\\jazz\\jazz.00054.wav: Error opening 'kaggle_data\\\\jazz\\\\jazz.00054.wav': Format not recognised.\n",
      "\u001b[91m The size of tensor a (29) must match the size of tensor b (30) at non-singleton dimension 0\u001b[00m\n"
     ]
    },
    {
     "name": "stderr",
     "output_type": "stream",
     "text": [
      "Epoch 27/100: 100%|██████████| 100/100 [00:45<00:00,  2.18it/s, loss=0.00222]\n"
     ]
    },
    {
     "name": "stdout",
     "output_type": "stream",
     "text": [
      "\u001b[92m \n",
      "Checkpoint saved at epoch 27\u001b[00m\n",
      "\u001b[94m Epoch 27 average loss: 0.0022\u001b[00m\n"
     ]
    },
    {
     "name": "stderr",
     "output_type": "stream",
     "text": [
      "Epoch 28/100:  13%|█▎        | 13/100 [00:05<00:36,  2.38it/s, loss=0.00274]"
     ]
    },
    {
     "name": "stdout",
     "output_type": "stream",
     "text": [
      "Error processing kaggle_data\\jazz\\jazz.00054.wav: Error opening 'kaggle_data\\\\jazz\\\\jazz.00054.wav': Format not recognised.\n",
      "\u001b[91m The size of tensor a (29) must match the size of tensor b (30) at non-singleton dimension 0\u001b[00m\n"
     ]
    },
    {
     "name": "stderr",
     "output_type": "stream",
     "text": [
      "Epoch 28/100:  28%|██▊       | 28/100 [00:12<00:33,  2.18it/s, loss=0.00231]"
     ]
    },
    {
     "name": "stdout",
     "output_type": "stream",
     "text": [
      "Error processing kaggle_data\\jazz\\jazz.00054.wav: Error opening 'kaggle_data\\\\jazz\\\\jazz.00054.wav': Format not recognised.\n"
     ]
    },
    {
     "name": "stderr",
     "output_type": "stream",
     "text": [
      "Epoch 28/100:  29%|██▉       | 29/100 [00:13<00:30,  2.34it/s, loss=0.00231]"
     ]
    },
    {
     "name": "stdout",
     "output_type": "stream",
     "text": [
      "\u001b[91m The size of tensor a (29) must match the size of tensor b (30) at non-singleton dimension 0\u001b[00m\n"
     ]
    },
    {
     "name": "stderr",
     "output_type": "stream",
     "text": [
      "Epoch 28/100:  30%|███       | 30/100 [00:13<00:28,  2.44it/s, loss=0.00231]"
     ]
    },
    {
     "name": "stdout",
     "output_type": "stream",
     "text": [
      "Error processing kaggle_data\\jazz\\jazz.00054.wav: Error opening 'kaggle_data\\\\jazz\\\\jazz.00054.wav': Format not recognised.\n",
      "\u001b[91m The size of tensor a (29) must match the size of tensor b (30) at non-singleton dimension 0\u001b[00m\n"
     ]
    },
    {
     "name": "stderr",
     "output_type": "stream",
     "text": [
      "Epoch 28/100:  50%|█████     | 50/100 [00:22<00:23,  2.17it/s, loss=0.00206]"
     ]
    },
    {
     "name": "stdout",
     "output_type": "stream",
     "text": [
      "Error processing kaggle_data\\jazz\\jazz.00054.wav: Error opening 'kaggle_data\\\\jazz\\\\jazz.00054.wav': Format not recognised.\n"
     ]
    },
    {
     "name": "stderr",
     "output_type": "stream",
     "text": [
      "Epoch 28/100:  51%|█████     | 51/100 [00:23<00:21,  2.32it/s, loss=0.00206]"
     ]
    },
    {
     "name": "stdout",
     "output_type": "stream",
     "text": [
      "\u001b[91m The size of tensor a (29) must match the size of tensor b (30) at non-singleton dimension 0\u001b[00m\n"
     ]
    },
    {
     "name": "stderr",
     "output_type": "stream",
     "text": [
      "Epoch 28/100: 100%|██████████| 100/100 [00:45<00:00,  2.19it/s, loss=0.00234]\n"
     ]
    },
    {
     "name": "stdout",
     "output_type": "stream",
     "text": [
      "\u001b[92m \n",
      "Checkpoint saved at epoch 28\u001b[00m\n",
      "\u001b[94m Epoch 28 average loss: 0.0023\u001b[00m\n"
     ]
    },
    {
     "name": "stderr",
     "output_type": "stream",
     "text": [
      "Epoch 29/100:  39%|███▉      | 39/100 [00:17<00:27,  2.19it/s, loss=0.00244]"
     ]
    },
    {
     "name": "stdout",
     "output_type": "stream",
     "text": [
      "Error processing kaggle_data\\jazz\\jazz.00054.wav: Error opening 'kaggle_data\\\\jazz\\\\jazz.00054.wav': Format not recognised.\n"
     ]
    },
    {
     "name": "stderr",
     "output_type": "stream",
     "text": [
      "Epoch 29/100:  40%|████      | 40/100 [00:18<00:25,  2.36it/s, loss=0.00244]"
     ]
    },
    {
     "name": "stdout",
     "output_type": "stream",
     "text": [
      "\u001b[91m The size of tensor a (29) must match the size of tensor b (30) at non-singleton dimension 0\u001b[00m\n"
     ]
    },
    {
     "name": "stderr",
     "output_type": "stream",
     "text": [
      "Epoch 29/100:  48%|████▊     | 48/100 [00:21<00:21,  2.39it/s, loss=0.00228]"
     ]
    },
    {
     "name": "stdout",
     "output_type": "stream",
     "text": [
      "Error processing kaggle_data\\jazz\\jazz.00054.wav: Error opening 'kaggle_data\\\\jazz\\\\jazz.00054.wav': Format not recognised.\n",
      "\u001b[91m The size of tensor a (29) must match the size of tensor b (30) at non-singleton dimension 0\u001b[00m\n"
     ]
    },
    {
     "name": "stderr",
     "output_type": "stream",
     "text": [
      "Epoch 29/100:  88%|████████▊ | 88/100 [00:39<00:05,  2.38it/s, loss=0.00285]"
     ]
    },
    {
     "name": "stdout",
     "output_type": "stream",
     "text": [
      "Error processing kaggle_data\\jazz\\jazz.00054.wav: Error opening 'kaggle_data\\\\jazz\\\\jazz.00054.wav': Format not recognised.\n",
      "\u001b[91m The size of tensor a (29) must match the size of tensor b (30) at non-singleton dimension 0\u001b[00m\n"
     ]
    },
    {
     "name": "stderr",
     "output_type": "stream",
     "text": [
      "Epoch 29/100: 100%|██████████| 100/100 [00:45<00:00,  2.20it/s, loss=0.00282]\n"
     ]
    },
    {
     "name": "stdout",
     "output_type": "stream",
     "text": [
      "\u001b[92m \n",
      "Checkpoint saved at epoch 29\u001b[00m\n",
      "\u001b[94m Epoch 29 average loss: 0.0028\u001b[00m\n"
     ]
    },
    {
     "name": "stderr",
     "output_type": "stream",
     "text": [
      "Epoch 30/100:  22%|██▏       | 22/100 [00:10<00:33,  2.33it/s, loss=0.00181]"
     ]
    },
    {
     "name": "stdout",
     "output_type": "stream",
     "text": [
      "Error processing kaggle_data\\jazz\\jazz.00054.wav: Error opening 'kaggle_data\\\\jazz\\\\jazz.00054.wav': Format not recognised.\n",
      "\u001b[91m The size of tensor a (29) must match the size of tensor b (30) at non-singleton dimension 0\u001b[00m\n"
     ]
    },
    {
     "name": "stderr",
     "output_type": "stream",
     "text": [
      "Epoch 30/100:  25%|██▌       | 25/100 [00:11<00:31,  2.39it/s, loss=0.00182]"
     ]
    },
    {
     "name": "stdout",
     "output_type": "stream",
     "text": [
      "Error processing kaggle_data\\jazz\\jazz.00054.wav: Error opening 'kaggle_data\\\\jazz\\\\jazz.00054.wav': Format not recognised.\n",
      "\u001b[91m The size of tensor a (29) must match the size of tensor b (30) at non-singleton dimension 0\u001b[00m\n"
     ]
    },
    {
     "name": "stderr",
     "output_type": "stream",
     "text": [
      "Epoch 30/100:  32%|███▏      | 32/100 [00:14<00:31,  2.19it/s, loss=0.00158]"
     ]
    },
    {
     "name": "stdout",
     "output_type": "stream",
     "text": [
      "Error processing kaggle_data\\jazz\\jazz.00054.wav: Error opening 'kaggle_data\\\\jazz\\\\jazz.00054.wav': Format not recognised.\n"
     ]
    },
    {
     "name": "stderr",
     "output_type": "stream",
     "text": [
      "Epoch 30/100:  33%|███▎      | 33/100 [00:14<00:28,  2.37it/s, loss=0.00158]"
     ]
    },
    {
     "name": "stdout",
     "output_type": "stream",
     "text": [
      "\u001b[91m The size of tensor a (29) must match the size of tensor b (30) at non-singleton dimension 0\u001b[00m\n"
     ]
    },
    {
     "name": "stderr",
     "output_type": "stream",
     "text": [
      "Epoch 30/100:  54%|█████▍    | 54/100 [00:24<00:21,  2.18it/s, loss=0.00138]"
     ]
    },
    {
     "name": "stdout",
     "output_type": "stream",
     "text": [
      "Error processing kaggle_data\\jazz\\jazz.00054.wav: Error opening 'kaggle_data\\\\jazz\\\\jazz.00054.wav': Format not recognised.\n"
     ]
    },
    {
     "name": "stderr",
     "output_type": "stream",
     "text": [
      "Epoch 30/100:  55%|█████▌    | 55/100 [00:24<00:19,  2.36it/s, loss=0.00138]"
     ]
    },
    {
     "name": "stdout",
     "output_type": "stream",
     "text": [
      "\u001b[91m The size of tensor a (29) must match the size of tensor b (30) at non-singleton dimension 0\u001b[00m\n"
     ]
    },
    {
     "name": "stderr",
     "output_type": "stream",
     "text": [
      "Epoch 30/100: 100%|██████████| 100/100 [00:45<00:00,  2.19it/s, loss=0.00182]\n"
     ]
    },
    {
     "name": "stdout",
     "output_type": "stream",
     "text": [
      "\u001b[92m \n",
      "Checkpoint saved at epoch 30\u001b[00m\n",
      "\u001b[94m Epoch 30 average loss: 0.0018\u001b[00m\n"
     ]
    },
    {
     "name": "stderr",
     "output_type": "stream",
     "text": [
      "Epoch 31/100:  32%|███▏      | 32/100 [00:14<00:28,  2.35it/s, loss=0.00268]"
     ]
    },
    {
     "name": "stdout",
     "output_type": "stream",
     "text": [
      "Error processing kaggle_data\\jazz\\jazz.00054.wav: Error opening 'kaggle_data\\\\jazz\\\\jazz.00054.wav': Format not recognised.\n",
      "\u001b[91m The size of tensor a (29) must match the size of tensor b (30) at non-singleton dimension 0\u001b[00m\n"
     ]
    },
    {
     "name": "stderr",
     "output_type": "stream",
     "text": [
      "Epoch 31/100:  63%|██████▎   | 63/100 [00:28<00:16,  2.20it/s, loss=0.00232]"
     ]
    },
    {
     "name": "stdout",
     "output_type": "stream",
     "text": [
      "Error processing kaggle_data\\jazz\\jazz.00054.wav: Error opening 'kaggle_data\\\\jazz\\\\jazz.00054.wav': Format not recognised.\n"
     ]
    },
    {
     "name": "stderr",
     "output_type": "stream",
     "text": [
      "Epoch 31/100:  64%|██████▍   | 64/100 [00:29<00:15,  2.38it/s, loss=0.00232]"
     ]
    },
    {
     "name": "stdout",
     "output_type": "stream",
     "text": [
      "\u001b[91m The size of tensor a (29) must match the size of tensor b (30) at non-singleton dimension 0\u001b[00m\n"
     ]
    },
    {
     "name": "stderr",
     "output_type": "stream",
     "text": [
      "Epoch 31/100:  80%|████████  | 80/100 [00:36<00:08,  2.36it/s, loss=0.00218]"
     ]
    },
    {
     "name": "stdout",
     "output_type": "stream",
     "text": [
      "Error processing kaggle_data\\jazz\\jazz.00054.wav: Error opening 'kaggle_data\\\\jazz\\\\jazz.00054.wav': Format not recognised.\n",
      "\u001b[91m The size of tensor a (29) must match the size of tensor b (30) at non-singleton dimension 0\u001b[00m\n"
     ]
    },
    {
     "name": "stderr",
     "output_type": "stream",
     "text": [
      "Epoch 31/100: 100%|██████████| 100/100 [00:45<00:00,  2.19it/s, loss=0.00208]\n"
     ]
    },
    {
     "name": "stdout",
     "output_type": "stream",
     "text": [
      "\u001b[92m \n",
      "Checkpoint saved at epoch 31\u001b[00m\n",
      "\u001b[94m Epoch 31 average loss: 0.0021\u001b[00m\n"
     ]
    },
    {
     "name": "stderr",
     "output_type": "stream",
     "text": [
      "Epoch 32/100:   9%|▉         | 9/100 [00:04<00:41,  2.19it/s, loss=0.00152]"
     ]
    },
    {
     "name": "stdout",
     "output_type": "stream",
     "text": [
      "Error processing kaggle_data\\jazz\\jazz.00054.wav: Error opening 'kaggle_data\\\\jazz\\\\jazz.00054.wav': Format not recognised.\n"
     ]
    },
    {
     "name": "stderr",
     "output_type": "stream",
     "text": [
      "Epoch 32/100:  10%|█         | 10/100 [00:04<00:38,  2.35it/s, loss=0.00152]"
     ]
    },
    {
     "name": "stdout",
     "output_type": "stream",
     "text": [
      "\u001b[91m The size of tensor a (29) must match the size of tensor b (30) at non-singleton dimension 0\u001b[00m\n"
     ]
    },
    {
     "name": "stderr",
     "output_type": "stream",
     "text": [
      "Epoch 32/100:  44%|████▍     | 44/100 [00:19<00:23,  2.39it/s, loss=0.00192]"
     ]
    },
    {
     "name": "stdout",
     "output_type": "stream",
     "text": [
      "Error processing kaggle_data\\jazz\\jazz.00054.wav: Error opening 'kaggle_data\\\\jazz\\\\jazz.00054.wav': Format not recognised.\n",
      "\u001b[91m The size of tensor a (29) must match the size of tensor b (30) at non-singleton dimension 0\u001b[00m\n"
     ]
    },
    {
     "name": "stderr",
     "output_type": "stream",
     "text": [
      "Epoch 32/100:  54%|█████▍    | 54/100 [00:24<00:20,  2.22it/s, loss=0.00207]"
     ]
    },
    {
     "name": "stdout",
     "output_type": "stream",
     "text": [
      "Error processing kaggle_data\\jazz\\jazz.00054.wav: Error opening 'kaggle_data\\\\jazz\\\\jazz.00054.wav': Format not recognised.\n",
      "\u001b[91m The size of tensor a (29) must match the size of tensor b (30) at non-singleton dimension 0\u001b[00m\n"
     ]
    },
    {
     "name": "stderr",
     "output_type": "stream",
     "text": [
      "Epoch 32/100:  62%|██████▏   | 62/100 [00:28<00:16,  2.36it/s, loss=0.00189]"
     ]
    },
    {
     "name": "stdout",
     "output_type": "stream",
     "text": [
      "Error processing kaggle_data\\jazz\\jazz.00054.wav: Error opening 'kaggle_data\\\\jazz\\\\jazz.00054.wav': Format not recognised.\n",
      "\u001b[91m The size of tensor a (29) must match the size of tensor b (30) at non-singleton dimension 0\u001b[00m\n"
     ]
    },
    {
     "name": "stderr",
     "output_type": "stream",
     "text": [
      "Epoch 32/100:  93%|█████████▎| 93/100 [00:42<00:03,  2.19it/s, loss=0.00171]"
     ]
    },
    {
     "name": "stdout",
     "output_type": "stream",
     "text": [
      "Error processing kaggle_data\\jazz\\jazz.00054.wav: Error opening 'kaggle_data\\\\jazz\\\\jazz.00054.wav': Format not recognised.\n"
     ]
    },
    {
     "name": "stderr",
     "output_type": "stream",
     "text": [
      "Epoch 32/100:  94%|█████████▍| 94/100 [00:42<00:02,  2.36it/s, loss=0.00171]"
     ]
    },
    {
     "name": "stdout",
     "output_type": "stream",
     "text": [
      "\u001b[91m The size of tensor a (29) must match the size of tensor b (30) at non-singleton dimension 0\u001b[00m\n"
     ]
    },
    {
     "name": "stderr",
     "output_type": "stream",
     "text": [
      "Epoch 32/100: 100%|██████████| 100/100 [00:45<00:00,  2.20it/s, loss=0.00169]\n"
     ]
    },
    {
     "name": "stdout",
     "output_type": "stream",
     "text": [
      "\u001b[92m \n",
      "Checkpoint saved at epoch 32\u001b[00m\n",
      "\u001b[94m Epoch 32 average loss: 0.0017\u001b[00m\n"
     ]
    },
    {
     "name": "stderr",
     "output_type": "stream",
     "text": [
      "Epoch 33/100:  13%|█▎        | 13/100 [00:06<00:40,  2.17it/s, loss=0.00136]"
     ]
    },
    {
     "name": "stdout",
     "output_type": "stream",
     "text": [
      "Error processing kaggle_data\\jazz\\jazz.00054.wav: Error opening 'kaggle_data\\\\jazz\\\\jazz.00054.wav': Format not recognised.\n"
     ]
    },
    {
     "name": "stderr",
     "output_type": "stream",
     "text": [
      "Epoch 33/100:  14%|█▍        | 14/100 [00:06<00:36,  2.35it/s, loss=0.00136]"
     ]
    },
    {
     "name": "stdout",
     "output_type": "stream",
     "text": [
      "\u001b[91m The size of tensor a (29) must match the size of tensor b (30) at non-singleton dimension 0\u001b[00m\n"
     ]
    },
    {
     "name": "stderr",
     "output_type": "stream",
     "text": [
      "Epoch 33/100:  54%|█████▍    | 54/100 [00:24<00:20,  2.20it/s, loss=0.00148]"
     ]
    },
    {
     "name": "stdout",
     "output_type": "stream",
     "text": [
      "Error processing kaggle_data\\jazz\\jazz.00054.wav: Error opening 'kaggle_data\\\\jazz\\\\jazz.00054.wav': Format not recognised.\n"
     ]
    },
    {
     "name": "stderr",
     "output_type": "stream",
     "text": [
      "Epoch 33/100:  55%|█████▌    | 55/100 [00:25<00:19,  2.36it/s, loss=0.00148]"
     ]
    },
    {
     "name": "stdout",
     "output_type": "stream",
     "text": [
      "\u001b[91m The size of tensor a (29) must match the size of tensor b (30) at non-singleton dimension 0\u001b[00m\n"
     ]
    },
    {
     "name": "stderr",
     "output_type": "stream",
     "text": [
      "Epoch 33/100:  58%|█████▊    | 58/100 [00:26<00:17,  2.37it/s, loss=0.00143]"
     ]
    },
    {
     "name": "stdout",
     "output_type": "stream",
     "text": [
      "Error processing kaggle_data\\jazz\\jazz.00054.wav: Error opening 'kaggle_data\\\\jazz\\\\jazz.00054.wav': Format not recognised.\n",
      "\u001b[91m The size of tensor a (29) must match the size of tensor b (30) at non-singleton dimension 0\u001b[00m\n"
     ]
    },
    {
     "name": "stderr",
     "output_type": "stream",
     "text": [
      "Epoch 33/100:  77%|███████▋  | 77/100 [00:35<00:09,  2.37it/s, loss=0.00166]"
     ]
    },
    {
     "name": "stdout",
     "output_type": "stream",
     "text": [
      "Error processing kaggle_data\\jazz\\jazz.00054.wav: Error opening 'kaggle_data\\\\jazz\\\\jazz.00054.wav': Format not recognised.\n",
      "\u001b[91m The size of tensor a (29) must match the size of tensor b (30) at non-singleton dimension 0\u001b[00m\n"
     ]
    },
    {
     "name": "stderr",
     "output_type": "stream",
     "text": [
      "Epoch 33/100: 100%|██████████| 100/100 [00:45<00:00,  2.19it/s, loss=0.00178]\n"
     ]
    },
    {
     "name": "stdout",
     "output_type": "stream",
     "text": [
      "\u001b[92m \n",
      "Checkpoint saved at epoch 33\u001b[00m\n",
      "\u001b[94m Epoch 33 average loss: 0.0018\u001b[00m\n"
     ]
    },
    {
     "name": "stderr",
     "output_type": "stream",
     "text": [
      "Epoch 34/100:   4%|▍         | 4/100 [00:01<00:43,  2.19it/s, loss=0.00134] "
     ]
    },
    {
     "name": "stdout",
     "output_type": "stream",
     "text": [
      "Error processing kaggle_data\\jazz\\jazz.00054.wav: Error opening 'kaggle_data\\\\jazz\\\\jazz.00054.wav': Format not recognised.\n"
     ]
    },
    {
     "name": "stderr",
     "output_type": "stream",
     "text": [
      "Epoch 34/100:   5%|▌         | 5/100 [00:02<00:39,  2.42it/s, loss=0.00134]"
     ]
    },
    {
     "name": "stdout",
     "output_type": "stream",
     "text": [
      "\u001b[91m The size of tensor a (29) must match the size of tensor b (30) at non-singleton dimension 0\u001b[00m\n"
     ]
    },
    {
     "name": "stderr",
     "output_type": "stream",
     "text": [
      "Epoch 34/100:  17%|█▋        | 17/100 [00:07<00:37,  2.19it/s, loss=0.00158]"
     ]
    },
    {
     "name": "stdout",
     "output_type": "stream",
     "text": [
      "Error processing kaggle_data\\jazz\\jazz.00054.wav: Error opening 'kaggle_data\\\\jazz\\\\jazz.00054.wav': Format not recognised.\n"
     ]
    },
    {
     "name": "stderr",
     "output_type": "stream",
     "text": [
      "Epoch 34/100:  18%|█▊        | 18/100 [00:08<00:36,  2.22it/s, loss=0.00158]"
     ]
    },
    {
     "name": "stdout",
     "output_type": "stream",
     "text": [
      "\u001b[91m The size of tensor a (29) must match the size of tensor b (30) at non-singleton dimension 0\u001b[00m\n"
     ]
    },
    {
     "name": "stderr",
     "output_type": "stream",
     "text": [
      "Epoch 34/100:  26%|██▌       | 26/100 [00:11<00:34,  2.16it/s, loss=0.00198]"
     ]
    },
    {
     "name": "stdout",
     "output_type": "stream",
     "text": [
      "Error processing kaggle_data\\jazz\\jazz.00054.wav: Error opening 'kaggle_data\\\\jazz\\\\jazz.00054.wav': Format not recognised.\n"
     ]
    },
    {
     "name": "stderr",
     "output_type": "stream",
     "text": [
      "Epoch 34/100:  27%|██▋       | 27/100 [00:12<00:31,  2.33it/s, loss=0.00198]"
     ]
    },
    {
     "name": "stdout",
     "output_type": "stream",
     "text": [
      "\u001b[91m The size of tensor a (29) must match the size of tensor b (30) at non-singleton dimension 0\u001b[00m\n"
     ]
    },
    {
     "name": "stderr",
     "output_type": "stream",
     "text": [
      "Epoch 34/100:  82%|████████▏ | 82/100 [00:37<00:08,  2.18it/s, loss=0.00147]"
     ]
    },
    {
     "name": "stdout",
     "output_type": "stream",
     "text": [
      "Error processing kaggle_data\\jazz\\jazz.00054.wav: Error opening 'kaggle_data\\\\jazz\\\\jazz.00054.wav': Format not recognised.\n"
     ]
    },
    {
     "name": "stderr",
     "output_type": "stream",
     "text": [
      "Epoch 34/100:  83%|████████▎ | 83/100 [00:37<00:07,  2.35it/s, loss=0.00147]"
     ]
    },
    {
     "name": "stdout",
     "output_type": "stream",
     "text": [
      "\u001b[91m The size of tensor a (29) must match the size of tensor b (30) at non-singleton dimension 0\u001b[00m\n"
     ]
    },
    {
     "name": "stderr",
     "output_type": "stream",
     "text": [
      "Epoch 34/100: 100%|██████████| 100/100 [00:45<00:00,  2.18it/s, loss=0.00141]\n"
     ]
    },
    {
     "name": "stdout",
     "output_type": "stream",
     "text": [
      "\u001b[92m \n",
      "Checkpoint saved at epoch 34\u001b[00m\n",
      "\u001b[94m Epoch 34 average loss: 0.0014\u001b[00m\n"
     ]
    },
    {
     "name": "stderr",
     "output_type": "stream",
     "text": [
      "Epoch 35/100:  38%|███▊      | 38/100 [00:17<00:28,  2.16it/s, loss=0.00147]"
     ]
    },
    {
     "name": "stdout",
     "output_type": "stream",
     "text": [
      "Error processing kaggle_data\\jazz\\jazz.00054.wav: Error opening 'kaggle_data\\\\jazz\\\\jazz.00054.wav': Format not recognised.\n"
     ]
    },
    {
     "name": "stderr",
     "output_type": "stream",
     "text": [
      "Epoch 35/100:  39%|███▉      | 39/100 [00:17<00:26,  2.33it/s, loss=0.00147]"
     ]
    },
    {
     "name": "stdout",
     "output_type": "stream",
     "text": [
      "\u001b[91m The size of tensor a (29) must match the size of tensor b (30) at non-singleton dimension 0\u001b[00m\n"
     ]
    },
    {
     "name": "stderr",
     "output_type": "stream",
     "text": [
      "Epoch 35/100:  49%|████▉     | 49/100 [00:22<00:21,  2.36it/s, loss=0.00159]"
     ]
    },
    {
     "name": "stdout",
     "output_type": "stream",
     "text": [
      "Error processing kaggle_data\\jazz\\jazz.00054.wav: Error opening 'kaggle_data\\\\jazz\\\\jazz.00054.wav': Format not recognised.\n",
      "\u001b[91m The size of tensor a (29) must match the size of tensor b (30) at non-singleton dimension 0\u001b[00m\n"
     ]
    },
    {
     "name": "stderr",
     "output_type": "stream",
     "text": [
      "Epoch 35/100:  94%|█████████▍| 94/100 [00:43<00:02,  2.18it/s, loss=0.00142]"
     ]
    },
    {
     "name": "stdout",
     "output_type": "stream",
     "text": [
      "Error processing kaggle_data\\jazz\\jazz.00054.wav: Error opening 'kaggle_data\\\\jazz\\\\jazz.00054.wav': Format not recognised.\n"
     ]
    },
    {
     "name": "stderr",
     "output_type": "stream",
     "text": [
      "Epoch 35/100:  95%|█████████▌| 95/100 [00:43<00:02,  2.34it/s, loss=0.00142]"
     ]
    },
    {
     "name": "stdout",
     "output_type": "stream",
     "text": [
      "\u001b[91m The size of tensor a (29) must match the size of tensor b (30) at non-singleton dimension 0\u001b[00m\n"
     ]
    },
    {
     "name": "stderr",
     "output_type": "stream",
     "text": [
      "Epoch 35/100: 100%|██████████| 100/100 [00:45<00:00,  2.18it/s, loss=0.00137]\n"
     ]
    },
    {
     "name": "stdout",
     "output_type": "stream",
     "text": [
      "\u001b[92m \n",
      "Checkpoint saved at epoch 35\u001b[00m\n",
      "\u001b[94m Epoch 35 average loss: 0.0014\u001b[00m\n"
     ]
    },
    {
     "name": "stderr",
     "output_type": "stream",
     "text": [
      "Epoch 36/100:  41%|████      | 41/100 [00:18<00:28,  2.09it/s, loss=0.00158] "
     ]
    },
    {
     "name": "stdout",
     "output_type": "stream",
     "text": [
      "Error processing kaggle_data\\jazz\\jazz.00054.wav: Error opening 'kaggle_data\\\\jazz\\\\jazz.00054.wav': Format not recognised.\n"
     ]
    },
    {
     "name": "stderr",
     "output_type": "stream",
     "text": [
      "Epoch 36/100:  42%|████▏     | 42/100 [00:19<00:25,  2.27it/s, loss=0.00158]"
     ]
    },
    {
     "name": "stdout",
     "output_type": "stream",
     "text": [
      "\u001b[91m The size of tensor a (29) must match the size of tensor b (30) at non-singleton dimension 0\u001b[00m\n"
     ]
    },
    {
     "name": "stderr",
     "output_type": "stream",
     "text": [
      "Epoch 36/100:  67%|██████▋   | 67/100 [00:30<00:14,  2.35it/s, loss=0.00156]"
     ]
    },
    {
     "name": "stdout",
     "output_type": "stream",
     "text": [
      "Error processing kaggle_data\\jazz\\jazz.00054.wav: Error opening 'kaggle_data\\\\jazz\\\\jazz.00054.wav': Format not recognised.\n",
      "\u001b[91m The size of tensor a (29) must match the size of tensor b (30) at non-singleton dimension 0\u001b[00m\n"
     ]
    },
    {
     "name": "stderr",
     "output_type": "stream",
     "text": [
      "Epoch 36/100:  75%|███████▌  | 75/100 [00:34<00:10,  2.38it/s, loss=0.0016] "
     ]
    },
    {
     "name": "stdout",
     "output_type": "stream",
     "text": [
      "Error processing kaggle_data\\jazz\\jazz.00054.wav: Error opening 'kaggle_data\\\\jazz\\\\jazz.00054.wav': Format not recognised.\n",
      "\u001b[91m The size of tensor a (29) must match the size of tensor b (30) at non-singleton dimension 0\u001b[00m\n"
     ]
    },
    {
     "name": "stderr",
     "output_type": "stream",
     "text": [
      "Epoch 36/100: 100%|██████████| 100/100 [00:45<00:00,  2.18it/s, loss=0.0014]\n"
     ]
    },
    {
     "name": "stdout",
     "output_type": "stream",
     "text": [
      "\u001b[92m \n",
      "Checkpoint saved at epoch 36\u001b[00m\n",
      "\u001b[94m Epoch 36 average loss: 0.0014\u001b[00m\n"
     ]
    },
    {
     "name": "stderr",
     "output_type": "stream",
     "text": [
      "Epoch 37/100:  11%|█         | 11/100 [00:04<00:37,  2.37it/s, loss=0.00244]"
     ]
    },
    {
     "name": "stdout",
     "output_type": "stream",
     "text": [
      "Error processing kaggle_data\\jazz\\jazz.00054.wav: Error opening 'kaggle_data\\\\jazz\\\\jazz.00054.wav': Format not recognised.\n",
      "\u001b[91m The size of tensor a (29) must match the size of tensor b (30) at non-singleton dimension 0\u001b[00m\n"
     ]
    },
    {
     "name": "stderr",
     "output_type": "stream",
     "text": [
      "Epoch 37/100:  35%|███▌      | 35/100 [00:15<00:29,  2.20it/s, loss=0.0022] "
     ]
    },
    {
     "name": "stdout",
     "output_type": "stream",
     "text": [
      "Error processing kaggle_data\\jazz\\jazz.00054.wav: Error opening 'kaggle_data\\\\jazz\\\\jazz.00054.wav': Format not recognised.\n"
     ]
    },
    {
     "name": "stderr",
     "output_type": "stream",
     "text": [
      "Epoch 37/100:  36%|███▌      | 36/100 [00:16<00:26,  2.39it/s, loss=0.0022]"
     ]
    },
    {
     "name": "stdout",
     "output_type": "stream",
     "text": [
      "\u001b[91m The size of tensor a (29) must match the size of tensor b (30) at non-singleton dimension 0\u001b[00m\n"
     ]
    },
    {
     "name": "stderr",
     "output_type": "stream",
     "text": [
      "Epoch 37/100:  45%|████▌     | 45/100 [00:20<00:25,  2.18it/s, loss=0.00194]"
     ]
    },
    {
     "name": "stdout",
     "output_type": "stream",
     "text": [
      "Error processing kaggle_data\\jazz\\jazz.00054.wav: Error opening 'kaggle_data\\\\jazz\\\\jazz.00054.wav': Format not recognised.\n"
     ]
    },
    {
     "name": "stderr",
     "output_type": "stream",
     "text": [
      "Epoch 37/100:  46%|████▌     | 46/100 [00:20<00:23,  2.34it/s, loss=0.00194]"
     ]
    },
    {
     "name": "stdout",
     "output_type": "stream",
     "text": [
      "\u001b[91m The size of tensor a (29) must match the size of tensor b (30) at non-singleton dimension 0\u001b[00m\n"
     ]
    },
    {
     "name": "stderr",
     "output_type": "stream",
     "text": [
      "Epoch 37/100:  61%|██████    | 61/100 [00:27<00:17,  2.19it/s, loss=0.00159]"
     ]
    },
    {
     "name": "stdout",
     "output_type": "stream",
     "text": [
      "Error processing kaggle_data\\jazz\\jazz.00054.wav: Error opening 'kaggle_data\\\\jazz\\\\jazz.00054.wav': Format not recognised.\n",
      "Error processing kaggle_data\\jazz\\jazz.00054.wav: Error opening 'kaggle_data\\\\jazz\\\\jazz.00054.wav': Format not recognised.\n"
     ]
    },
    {
     "name": "stderr",
     "output_type": "stream",
     "text": [
      "c:\\Users\\Ranit Bhowmick\\AppData\\Local\\Programs\\Python\\Python311\\Lib\\site-packages\\torch\\nn\\modules\\loss.py:536: UserWarning: Using a target size (torch.Size([30, 19])) that is different to the input size (torch.Size([28, 19])). This will likely lead to incorrect results due to broadcasting. Please ensure they have the same size.\n",
      "  return F.mse_loss(input, target, reduction=self.reduction)\n",
      "Epoch 37/100:  62%|██████▏   | 62/100 [00:28<00:15,  2.39it/s, loss=0.00159]"
     ]
    },
    {
     "name": "stdout",
     "output_type": "stream",
     "text": [
      "\u001b[91m The size of tensor a (28) must match the size of tensor b (30) at non-singleton dimension 0\u001b[00m\n"
     ]
    },
    {
     "name": "stderr",
     "output_type": "stream",
     "text": [
      "Epoch 37/100: 100%|██████████| 100/100 [00:45<00:00,  2.19it/s, loss=0.00157]\n"
     ]
    },
    {
     "name": "stdout",
     "output_type": "stream",
     "text": [
      "\u001b[92m \n",
      "Checkpoint saved at epoch 37\u001b[00m\n",
      "\u001b[94m Epoch 37 average loss: 0.0016\u001b[00m\n"
     ]
    },
    {
     "name": "stderr",
     "output_type": "stream",
     "text": [
      "Epoch 38/100:  49%|████▉     | 49/100 [00:22<00:21,  2.37it/s, loss=0.0022] "
     ]
    },
    {
     "name": "stdout",
     "output_type": "stream",
     "text": [
      "Error processing kaggle_data\\jazz\\jazz.00054.wav: Error opening 'kaggle_data\\\\jazz\\\\jazz.00054.wav': Format not recognised.\n",
      "\u001b[91m The size of tensor a (29) must match the size of tensor b (30) at non-singleton dimension 0\u001b[00m\n"
     ]
    },
    {
     "name": "stderr",
     "output_type": "stream",
     "text": [
      "Epoch 38/100: 100%|██████████| 100/100 [00:45<00:00,  2.18it/s, loss=0.00222]\n"
     ]
    },
    {
     "name": "stdout",
     "output_type": "stream",
     "text": [
      "\u001b[92m \n",
      "Checkpoint saved at epoch 38\u001b[00m\n",
      "\u001b[94m Epoch 38 average loss: 0.0022\u001b[00m\n"
     ]
    },
    {
     "name": "stderr",
     "output_type": "stream",
     "text": [
      "Epoch 39/100:   3%|▎         | 3/100 [00:01<00:39,  2.47it/s, loss=0.00377]"
     ]
    },
    {
     "name": "stdout",
     "output_type": "stream",
     "text": [
      "Error processing kaggle_data\\jazz\\jazz.00054.wav: Error opening 'kaggle_data\\\\jazz\\\\jazz.00054.wav': Format not recognised.\n",
      "\u001b[91m The size of tensor a (29) must match the size of tensor b (30) at non-singleton dimension 0\u001b[00m\n"
     ]
    },
    {
     "name": "stderr",
     "output_type": "stream",
     "text": [
      "Epoch 39/100:   8%|▊         | 8/100 [00:03<00:39,  2.30it/s, loss=0.00399]"
     ]
    },
    {
     "name": "stdout",
     "output_type": "stream",
     "text": [
      "Error processing kaggle_data\\jazz\\jazz.00054.wav: Error opening 'kaggle_data\\\\jazz\\\\jazz.00054.wav': Format not recognised.\n",
      "\u001b[91m The size of tensor a (29) must match the size of tensor b (30) at non-singleton dimension 0\u001b[00m\n"
     ]
    },
    {
     "name": "stderr",
     "output_type": "stream",
     "text": [
      "Epoch 39/100:  65%|██████▌   | 65/100 [00:29<00:14,  2.33it/s, loss=0.00276]"
     ]
    },
    {
     "name": "stdout",
     "output_type": "stream",
     "text": [
      "Error processing kaggle_data\\jazz\\jazz.00054.wav: Error opening 'kaggle_data\\\\jazz\\\\jazz.00054.wav': Format not recognised.\n",
      "\u001b[91m The size of tensor a (29) must match the size of tensor b (30) at non-singleton dimension 0\u001b[00m\n"
     ]
    },
    {
     "name": "stderr",
     "output_type": "stream",
     "text": [
      "Epoch 39/100:  97%|█████████▋| 97/100 [00:44<00:01,  2.35it/s, loss=0.00274]"
     ]
    },
    {
     "name": "stdout",
     "output_type": "stream",
     "text": [
      "Error processing kaggle_data\\jazz\\jazz.00054.wav: Error opening 'kaggle_data\\\\jazz\\\\jazz.00054.wav': Format not recognised.\n",
      "\u001b[91m The size of tensor a (29) must match the size of tensor b (30) at non-singleton dimension 0\u001b[00m\n"
     ]
    },
    {
     "name": "stderr",
     "output_type": "stream",
     "text": [
      "Epoch 39/100: 100%|██████████| 100/100 [00:45<00:00,  2.18it/s, loss=0.00268]\n"
     ]
    },
    {
     "name": "stdout",
     "output_type": "stream",
     "text": [
      "\u001b[92m \n",
      "Checkpoint saved at epoch 39\u001b[00m\n",
      "\u001b[94m Epoch 39 average loss: 0.0027\u001b[00m\n"
     ]
    },
    {
     "name": "stderr",
     "output_type": "stream",
     "text": [
      "Epoch 40/100:  38%|███▊      | 38/100 [00:17<00:26,  2.36it/s, loss=0.00155] "
     ]
    },
    {
     "name": "stdout",
     "output_type": "stream",
     "text": [
      "Error processing kaggle_data\\jazz\\jazz.00054.wav: Error opening 'kaggle_data\\\\jazz\\\\jazz.00054.wav': Format not recognised.\n",
      "\u001b[91m The size of tensor a (29) must match the size of tensor b (30) at non-singleton dimension 0\u001b[00m\n"
     ]
    },
    {
     "name": "stderr",
     "output_type": "stream",
     "text": [
      "Epoch 40/100:  41%|████      | 41/100 [00:18<00:26,  2.23it/s, loss=0.00156]"
     ]
    },
    {
     "name": "stdout",
     "output_type": "stream",
     "text": [
      "Error processing kaggle_data\\jazz\\jazz.00054.wav: Error opening 'kaggle_data\\\\jazz\\\\jazz.00054.wav': Format not recognised.\n"
     ]
    },
    {
     "name": "stderr",
     "output_type": "stream",
     "text": [
      "Epoch 40/100:  42%|████▏     | 42/100 [00:19<00:24,  2.35it/s, loss=0.00156]"
     ]
    },
    {
     "name": "stdout",
     "output_type": "stream",
     "text": [
      "\u001b[91m The size of tensor a (29) must match the size of tensor b (30) at non-singleton dimension 0\u001b[00m\n"
     ]
    },
    {
     "name": "stderr",
     "output_type": "stream",
     "text": [
      "Epoch 40/100:  49%|████▉     | 49/100 [00:22<00:21,  2.37it/s, loss=0.00159]"
     ]
    },
    {
     "name": "stdout",
     "output_type": "stream",
     "text": [
      "Error processing kaggle_data\\jazz\\jazz.00054.wav: Error opening 'kaggle_data\\\\jazz\\\\jazz.00054.wav': Format not recognised.\n",
      "Error processing kaggle_data\\jazz\\jazz.00054.wav: Error opening 'kaggle_data\\\\jazz\\\\jazz.00054.wav': Format not recognised.\n",
      "\u001b[91m The size of tensor a (28) must match the size of tensor b (30) at non-singleton dimension 0\u001b[00m\n"
     ]
    },
    {
     "name": "stderr",
     "output_type": "stream",
     "text": [
      "Epoch 40/100: 100%|██████████| 100/100 [00:45<00:00,  2.18it/s, loss=0.00168]\n"
     ]
    },
    {
     "name": "stdout",
     "output_type": "stream",
     "text": [
      "\u001b[92m \n",
      "Checkpoint saved at epoch 40\u001b[00m\n",
      "\u001b[94m Epoch 40 average loss: 0.0017\u001b[00m\n"
     ]
    },
    {
     "name": "stderr",
     "output_type": "stream",
     "text": [
      "Epoch 41/100:   1%|          | 1/100 [00:00<00:34,  2.85it/s]"
     ]
    },
    {
     "name": "stdout",
     "output_type": "stream",
     "text": [
      "Error processing kaggle_data\\jazz\\jazz.00054.wav: Error opening 'kaggle_data\\\\jazz\\\\jazz.00054.wav': Format not recognised.\n",
      "\u001b[91m The size of tensor a (29) must match the size of tensor b (30) at non-singleton dimension 0\u001b[00m\n"
     ]
    },
    {
     "name": "stderr",
     "output_type": "stream",
     "text": [
      "Epoch 41/100:   8%|▊         | 8/100 [00:03<00:41,  2.20it/s, loss=0.000935]"
     ]
    },
    {
     "name": "stdout",
     "output_type": "stream",
     "text": [
      "Error processing kaggle_data\\jazz\\jazz.00054.wav: Error opening 'kaggle_data\\\\jazz\\\\jazz.00054.wav': Format not recognised.\n"
     ]
    },
    {
     "name": "stderr",
     "output_type": "stream",
     "text": [
      "Epoch 41/100:   9%|▉         | 9/100 [00:03<00:38,  2.36it/s, loss=0.000935]"
     ]
    },
    {
     "name": "stdout",
     "output_type": "stream",
     "text": [
      "\u001b[91m The size of tensor a (29) must match the size of tensor b (30) at non-singleton dimension 0\u001b[00m\n"
     ]
    },
    {
     "name": "stderr",
     "output_type": "stream",
     "text": [
      "Epoch 41/100:  21%|██        | 21/100 [00:09<00:33,  2.34it/s, loss=0.00128] "
     ]
    },
    {
     "name": "stdout",
     "output_type": "stream",
     "text": [
      "Error processing kaggle_data\\jazz\\jazz.00054.wav: Error opening 'kaggle_data\\\\jazz\\\\jazz.00054.wav': Format not recognised.\n",
      "\u001b[91m The size of tensor a (29) must match the size of tensor b (30) at non-singleton dimension 0\u001b[00m\n"
     ]
    },
    {
     "name": "stderr",
     "output_type": "stream",
     "text": [
      "Epoch 41/100: 100%|██████████| 100/100 [00:45<00:00,  2.18it/s, loss=0.00135]\n"
     ]
    },
    {
     "name": "stdout",
     "output_type": "stream",
     "text": [
      "\u001b[92m \n",
      "Checkpoint saved at epoch 41\u001b[00m\n",
      "\u001b[94m Epoch 41 average loss: 0.0014\u001b[00m\n"
     ]
    },
    {
     "name": "stderr",
     "output_type": "stream",
     "text": [
      "Epoch 42/100:  87%|████████▋ | 87/100 [00:39<00:05,  2.34it/s, loss=0.00156]"
     ]
    },
    {
     "name": "stdout",
     "output_type": "stream",
     "text": [
      "Error processing kaggle_data\\jazz\\jazz.00054.wav: Error opening 'kaggle_data\\\\jazz\\\\jazz.00054.wav': Format not recognised.\n",
      "\u001b[91m The size of tensor a (29) must match the size of tensor b (30) at non-singleton dimension 0\u001b[00m\n"
     ]
    },
    {
     "name": "stderr",
     "output_type": "stream",
     "text": [
      "Epoch 42/100: 100%|██████████| 100/100 [00:45<00:00,  2.18it/s, loss=0.00147]\n"
     ]
    },
    {
     "name": "stdout",
     "output_type": "stream",
     "text": [
      "\u001b[92m \n",
      "Checkpoint saved at epoch 42\u001b[00m\n",
      "\u001b[94m Epoch 42 average loss: 0.0015\u001b[00m\n"
     ]
    },
    {
     "name": "stderr",
     "output_type": "stream",
     "text": [
      "Epoch 43/100:   4%|▍         | 4/100 [00:01<00:39,  2.41it/s, loss=0.00351]"
     ]
    },
    {
     "name": "stdout",
     "output_type": "stream",
     "text": [
      "Error processing kaggle_data\\jazz\\jazz.00054.wav: Error opening 'kaggle_data\\\\jazz\\\\jazz.00054.wav': Format not recognised.\n",
      "\u001b[91m The size of tensor a (29) must match the size of tensor b (30) at non-singleton dimension 0\u001b[00m\n"
     ]
    },
    {
     "name": "stderr",
     "output_type": "stream",
     "text": [
      "Epoch 43/100:  26%|██▌       | 26/100 [00:11<00:34,  2.17it/s, loss=0.00201]"
     ]
    },
    {
     "name": "stdout",
     "output_type": "stream",
     "text": [
      "Error processing kaggle_data\\jazz\\jazz.00054.wav: Error opening 'kaggle_data\\\\jazz\\\\jazz.00054.wav': Format not recognised.\n"
     ]
    },
    {
     "name": "stderr",
     "output_type": "stream",
     "text": [
      "Epoch 43/100:  27%|██▋       | 27/100 [00:12<00:31,  2.34it/s, loss=0.00201]"
     ]
    },
    {
     "name": "stdout",
     "output_type": "stream",
     "text": [
      "\u001b[91m The size of tensor a (29) must match the size of tensor b (30) at non-singleton dimension 0\u001b[00m\n"
     ]
    },
    {
     "name": "stderr",
     "output_type": "stream",
     "text": [
      "Epoch 43/100:  35%|███▌      | 35/100 [00:16<00:29,  2.18it/s, loss=0.00196]"
     ]
    },
    {
     "name": "stdout",
     "output_type": "stream",
     "text": [
      "Error processing kaggle_data\\jazz\\jazz.00054.wav: Error opening 'kaggle_data\\\\jazz\\\\jazz.00054.wav': Format not recognised.\n"
     ]
    },
    {
     "name": "stderr",
     "output_type": "stream",
     "text": [
      "Epoch 43/100:  36%|███▌      | 36/100 [00:16<00:27,  2.35it/s, loss=0.00196]"
     ]
    },
    {
     "name": "stdout",
     "output_type": "stream",
     "text": [
      "\u001b[91m The size of tensor a (29) must match the size of tensor b (30) at non-singleton dimension 0\u001b[00m\n"
     ]
    },
    {
     "name": "stderr",
     "output_type": "stream",
     "text": [
      "Epoch 43/100:  58%|█████▊    | 58/100 [00:26<00:17,  2.36it/s, loss=0.00187]"
     ]
    },
    {
     "name": "stdout",
     "output_type": "stream",
     "text": [
      "Error processing kaggle_data\\jazz\\jazz.00054.wav: Error opening 'kaggle_data\\\\jazz\\\\jazz.00054.wav': Format not recognised.\n",
      "\u001b[91m The size of tensor a (29) must match the size of tensor b (30) at non-singleton dimension 0\u001b[00m\n"
     ]
    },
    {
     "name": "stderr",
     "output_type": "stream",
     "text": [
      "Epoch 43/100: 100%|██████████| 100/100 [00:45<00:00,  2.19it/s, loss=0.00154]\n"
     ]
    },
    {
     "name": "stdout",
     "output_type": "stream",
     "text": [
      "\u001b[92m \n",
      "Checkpoint saved at epoch 43\u001b[00m\n",
      "\u001b[94m Epoch 43 average loss: 0.0015\u001b[00m\n"
     ]
    },
    {
     "name": "stderr",
     "output_type": "stream",
     "text": [
      "Epoch 44/100:   4%|▍         | 4/100 [00:01<00:39,  2.40it/s, loss=0.00229]"
     ]
    },
    {
     "name": "stdout",
     "output_type": "stream",
     "text": [
      "Error processing kaggle_data\\jazz\\jazz.00054.wav: Error opening 'kaggle_data\\\\jazz\\\\jazz.00054.wav': Format not recognised.\n",
      "\u001b[91m The size of tensor a (29) must match the size of tensor b (30) at non-singleton dimension 0\u001b[00m\n"
     ]
    },
    {
     "name": "stderr",
     "output_type": "stream",
     "text": [
      "Epoch 44/100:  64%|██████▍   | 64/100 [00:29<00:15,  2.36it/s, loss=0.00113] "
     ]
    },
    {
     "name": "stdout",
     "output_type": "stream",
     "text": [
      "Error processing kaggle_data\\jazz\\jazz.00054.wav: Error opening 'kaggle_data\\\\jazz\\\\jazz.00054.wav': Format not recognised.\n",
      "\u001b[91m The size of tensor a (29) must match the size of tensor b (30) at non-singleton dimension 0\u001b[00m\n"
     ]
    },
    {
     "name": "stderr",
     "output_type": "stream",
     "text": [
      "Epoch 44/100:  75%|███████▌  | 75/100 [00:34<00:10,  2.39it/s, loss=0.00118]"
     ]
    },
    {
     "name": "stdout",
     "output_type": "stream",
     "text": [
      "Error processing kaggle_data\\jazz\\jazz.00054.wav: Error opening 'kaggle_data\\\\jazz\\\\jazz.00054.wav': Format not recognised.\n",
      "\u001b[91m The size of tensor a (29) must match the size of tensor b (30) at non-singleton dimension 0\u001b[00m\n"
     ]
    },
    {
     "name": "stderr",
     "output_type": "stream",
     "text": [
      "Epoch 44/100:  83%|████████▎ | 83/100 [00:37<00:07,  2.18it/s, loss=0.00113]"
     ]
    },
    {
     "name": "stdout",
     "output_type": "stream",
     "text": [
      "Error processing kaggle_data\\jazz\\jazz.00054.wav: Error opening 'kaggle_data\\\\jazz\\\\jazz.00054.wav': Format not recognised.\n"
     ]
    },
    {
     "name": "stderr",
     "output_type": "stream",
     "text": [
      "Epoch 44/100:  84%|████████▍ | 84/100 [00:38<00:06,  2.33it/s, loss=0.00113]"
     ]
    },
    {
     "name": "stdout",
     "output_type": "stream",
     "text": [
      "\u001b[91m The size of tensor a (29) must match the size of tensor b (30) at non-singleton dimension 0\u001b[00m\n"
     ]
    },
    {
     "name": "stderr",
     "output_type": "stream",
     "text": [
      "Epoch 44/100: 100%|██████████| 100/100 [00:45<00:00,  2.19it/s, loss=0.00114]\n"
     ]
    },
    {
     "name": "stdout",
     "output_type": "stream",
     "text": [
      "\u001b[92m \n",
      "Checkpoint saved at epoch 44\u001b[00m\n",
      "\u001b[94m Epoch 44 average loss: 0.0011\u001b[00m\n"
     ]
    },
    {
     "name": "stderr",
     "output_type": "stream",
     "text": [
      "Epoch 45/100:  18%|█▊        | 18/100 [00:08<00:37,  2.19it/s, loss=0.000863]"
     ]
    },
    {
     "name": "stdout",
     "output_type": "stream",
     "text": [
      "Error processing kaggle_data\\jazz\\jazz.00054.wav: Error opening 'kaggle_data\\\\jazz\\\\jazz.00054.wav': Format not recognised.\n"
     ]
    },
    {
     "name": "stderr",
     "output_type": "stream",
     "text": [
      "Epoch 45/100:  19%|█▉        | 19/100 [00:08<00:34,  2.35it/s, loss=0.000863]"
     ]
    },
    {
     "name": "stdout",
     "output_type": "stream",
     "text": [
      "\u001b[91m The size of tensor a (29) must match the size of tensor b (30) at non-singleton dimension 0\u001b[00m\n"
     ]
    },
    {
     "name": "stderr",
     "output_type": "stream",
     "text": [
      "Epoch 45/100:  20%|██        | 20/100 [00:08<00:32,  2.44it/s, loss=0.000863]"
     ]
    },
    {
     "name": "stdout",
     "output_type": "stream",
     "text": [
      "Error processing kaggle_data\\jazz\\jazz.00054.wav: Error opening 'kaggle_data\\\\jazz\\\\jazz.00054.wav': Format not recognised.\n",
      "\u001b[91m The size of tensor a (29) must match the size of tensor b (30) at non-singleton dimension 0\u001b[00m\n"
     ]
    },
    {
     "name": "stderr",
     "output_type": "stream",
     "text": [
      "Epoch 45/100:  32%|███▏      | 32/100 [00:14<00:28,  2.38it/s, loss=0.000757]"
     ]
    },
    {
     "name": "stdout",
     "output_type": "stream",
     "text": [
      "Error processing kaggle_data\\jazz\\jazz.00054.wav: Error opening 'kaggle_data\\\\jazz\\\\jazz.00054.wav': Format not recognised.\n",
      "\u001b[91m The size of tensor a (29) must match the size of tensor b (30) at non-singleton dimension 0\u001b[00m\n"
     ]
    },
    {
     "name": "stderr",
     "output_type": "stream",
     "text": [
      "Epoch 45/100: 100%|██████████| 100/100 [00:45<00:00,  2.19it/s, loss=0.00161]\n"
     ]
    },
    {
     "name": "stdout",
     "output_type": "stream",
     "text": [
      "\u001b[92m \n",
      "Checkpoint saved at epoch 45\u001b[00m\n",
      "\u001b[94m Epoch 45 average loss: 0.0016\u001b[00m\n"
     ]
    },
    {
     "name": "stderr",
     "output_type": "stream",
     "text": [
      "Epoch 46/100:  12%|█▏        | 12/100 [00:05<00:40,  2.19it/s, loss=0.00128]"
     ]
    },
    {
     "name": "stdout",
     "output_type": "stream",
     "text": [
      "Error processing kaggle_data\\jazz\\jazz.00054.wav: Error opening 'kaggle_data\\\\jazz\\\\jazz.00054.wav': Format not recognised.\n",
      "Error processing kaggle_data\\jazz\\jazz.00054.wav: Error opening 'kaggle_data\\\\jazz\\\\jazz.00054.wav': Format not recognised.\n"
     ]
    },
    {
     "name": "stderr",
     "output_type": "stream",
     "text": [
      "Epoch 46/100:  13%|█▎        | 13/100 [00:05<00:36,  2.40it/s, loss=0.00128]"
     ]
    },
    {
     "name": "stdout",
     "output_type": "stream",
     "text": [
      "\u001b[91m The size of tensor a (28) must match the size of tensor b (30) at non-singleton dimension 0\u001b[00m\n"
     ]
    },
    {
     "name": "stderr",
     "output_type": "stream",
     "text": [
      "Epoch 46/100:  21%|██        | 21/100 [00:09<00:36,  2.19it/s, loss=0.00119]"
     ]
    },
    {
     "name": "stdout",
     "output_type": "stream",
     "text": [
      "Error processing kaggle_data\\jazz\\jazz.00054.wav: Error opening 'kaggle_data\\\\jazz\\\\jazz.00054.wav': Format not recognised.\n"
     ]
    },
    {
     "name": "stderr",
     "output_type": "stream",
     "text": [
      "Epoch 46/100:  22%|██▏       | 22/100 [00:09<00:33,  2.36it/s, loss=0.00119]"
     ]
    },
    {
     "name": "stdout",
     "output_type": "stream",
     "text": [
      "\u001b[91m The size of tensor a (29) must match the size of tensor b (30) at non-singleton dimension 0\u001b[00m\n",
      "Error processing kaggle_data\\jazz\\jazz.00054.wav: Error opening 'kaggle_data\\\\jazz\\\\jazz.00054.wav': Format not recognised.\n"
     ]
    },
    {
     "name": "stderr",
     "output_type": "stream",
     "text": [
      "Epoch 46/100:  23%|██▎       | 23/100 [00:10<00:31,  2.46it/s, loss=0.00119]"
     ]
    },
    {
     "name": "stdout",
     "output_type": "stream",
     "text": [
      "\u001b[91m The size of tensor a (29) must match the size of tensor b (30) at non-singleton dimension 0\u001b[00m\n"
     ]
    },
    {
     "name": "stderr",
     "output_type": "stream",
     "text": [
      "Epoch 46/100:  81%|████████  | 81/100 [00:36<00:08,  2.17it/s, loss=0.0017] "
     ]
    },
    {
     "name": "stdout",
     "output_type": "stream",
     "text": [
      "Error processing kaggle_data\\jazz\\jazz.00054.wav: Error opening 'kaggle_data\\\\jazz\\\\jazz.00054.wav': Format not recognised.\n"
     ]
    },
    {
     "name": "stderr",
     "output_type": "stream",
     "text": [
      "Epoch 46/100:  82%|████████▏ | 82/100 [00:37<00:07,  2.35it/s, loss=0.0017]"
     ]
    },
    {
     "name": "stdout",
     "output_type": "stream",
     "text": [
      "\u001b[91m The size of tensor a (29) must match the size of tensor b (30) at non-singleton dimension 0\u001b[00m\n"
     ]
    },
    {
     "name": "stderr",
     "output_type": "stream",
     "text": [
      "Epoch 46/100: 100%|██████████| 100/100 [00:45<00:00,  2.20it/s, loss=0.00165]\n"
     ]
    },
    {
     "name": "stdout",
     "output_type": "stream",
     "text": [
      "\u001b[92m \n",
      "Checkpoint saved at epoch 46\u001b[00m\n",
      "\u001b[94m Epoch 46 average loss: 0.0016\u001b[00m\n"
     ]
    },
    {
     "name": "stderr",
     "output_type": "stream",
     "text": [
      "Epoch 47/100:  26%|██▌       | 26/100 [00:11<00:31,  2.36it/s, loss=0.000953]"
     ]
    },
    {
     "name": "stdout",
     "output_type": "stream",
     "text": [
      "Error processing kaggle_data\\jazz\\jazz.00054.wav: Error opening 'kaggle_data\\\\jazz\\\\jazz.00054.wav': Format not recognised.\n",
      "\u001b[91m The size of tensor a (29) must match the size of tensor b (30) at non-singleton dimension 0\u001b[00m\n"
     ]
    },
    {
     "name": "stderr",
     "output_type": "stream",
     "text": [
      "Epoch 47/100:  32%|███▏      | 32/100 [00:14<00:30,  2.20it/s, loss=0.00123] "
     ]
    },
    {
     "name": "stdout",
     "output_type": "stream",
     "text": [
      "Error processing kaggle_data\\jazz\\jazz.00054.wav: Error opening 'kaggle_data\\\\jazz\\\\jazz.00054.wav': Format not recognised.\n"
     ]
    },
    {
     "name": "stderr",
     "output_type": "stream",
     "text": [
      "Epoch 47/100:  33%|███▎      | 33/100 [00:14<00:28,  2.37it/s, loss=0.00123]"
     ]
    },
    {
     "name": "stdout",
     "output_type": "stream",
     "text": [
      "\u001b[91m The size of tensor a (29) must match the size of tensor b (30) at non-singleton dimension 0\u001b[00m\n"
     ]
    },
    {
     "name": "stderr",
     "output_type": "stream",
     "text": [
      "Epoch 47/100:  60%|██████    | 60/100 [00:27<00:18,  2.19it/s, loss=0.00115]"
     ]
    },
    {
     "name": "stdout",
     "output_type": "stream",
     "text": [
      "Error processing kaggle_data\\jazz\\jazz.00054.wav: Error opening 'kaggle_data\\\\jazz\\\\jazz.00054.wav': Format not recognised.\n"
     ]
    },
    {
     "name": "stderr",
     "output_type": "stream",
     "text": [
      "Epoch 47/100:  61%|██████    | 61/100 [00:27<00:16,  2.38it/s, loss=0.00115]"
     ]
    },
    {
     "name": "stdout",
     "output_type": "stream",
     "text": [
      "\u001b[91m The size of tensor a (29) must match the size of tensor b (30) at non-singleton dimension 0\u001b[00m\n"
     ]
    },
    {
     "name": "stderr",
     "output_type": "stream",
     "text": [
      "Epoch 47/100:  83%|████████▎ | 83/100 [00:37<00:07,  2.19it/s, loss=0.00145]"
     ]
    },
    {
     "name": "stdout",
     "output_type": "stream",
     "text": [
      "Error processing kaggle_data\\jazz\\jazz.00054.wav: Error opening 'kaggle_data\\\\jazz\\\\jazz.00054.wav': Format not recognised.\n"
     ]
    },
    {
     "name": "stderr",
     "output_type": "stream",
     "text": [
      "Epoch 47/100:  84%|████████▍ | 84/100 [00:38<00:06,  2.36it/s, loss=0.00145]"
     ]
    },
    {
     "name": "stdout",
     "output_type": "stream",
     "text": [
      "\u001b[91m The size of tensor a (29) must match the size of tensor b (30) at non-singleton dimension 0\u001b[00m\n"
     ]
    },
    {
     "name": "stderr",
     "output_type": "stream",
     "text": [
      "Epoch 47/100: 100%|██████████| 100/100 [00:45<00:00,  2.20it/s, loss=0.00152]\n"
     ]
    },
    {
     "name": "stdout",
     "output_type": "stream",
     "text": [
      "\u001b[92m \n",
      "Checkpoint saved at epoch 47\u001b[00m\n",
      "\u001b[94m Epoch 47 average loss: 0.0015\u001b[00m\n"
     ]
    },
    {
     "name": "stderr",
     "output_type": "stream",
     "text": [
      "Epoch 48/100:  49%|████▉     | 49/100 [00:22<00:23,  2.19it/s, loss=0.000988]"
     ]
    },
    {
     "name": "stdout",
     "output_type": "stream",
     "text": [
      "Error processing kaggle_data\\jazz\\jazz.00054.wav: Error opening 'kaggle_data\\\\jazz\\\\jazz.00054.wav': Format not recognised.\n"
     ]
    },
    {
     "name": "stderr",
     "output_type": "stream",
     "text": [
      "Epoch 48/100:  50%|█████     | 50/100 [00:22<00:21,  2.38it/s, loss=0.000988]"
     ]
    },
    {
     "name": "stdout",
     "output_type": "stream",
     "text": [
      "\u001b[91m The size of tensor a (29) must match the size of tensor b (30) at non-singleton dimension 0\u001b[00m\n"
     ]
    },
    {
     "name": "stderr",
     "output_type": "stream",
     "text": [
      "Epoch 48/100: 100%|██████████| 100/100 [00:45<00:00,  2.18it/s, loss=0.00189]\n"
     ]
    },
    {
     "name": "stdout",
     "output_type": "stream",
     "text": [
      "\u001b[92m \n",
      "Checkpoint saved at epoch 48\u001b[00m\n",
      "\u001b[94m Epoch 48 average loss: 0.0019\u001b[00m\n"
     ]
    },
    {
     "name": "stderr",
     "output_type": "stream",
     "text": [
      "Epoch 49/100:  50%|█████     | 50/100 [00:22<00:21,  2.34it/s, loss=0.00206]"
     ]
    },
    {
     "name": "stdout",
     "output_type": "stream",
     "text": [
      "Error processing kaggle_data\\jazz\\jazz.00054.wav: Error opening 'kaggle_data\\\\jazz\\\\jazz.00054.wav': Format not recognised.\n",
      "\u001b[91m The size of tensor a (29) must match the size of tensor b (30) at non-singleton dimension 0\u001b[00m\n"
     ]
    },
    {
     "name": "stderr",
     "output_type": "stream",
     "text": [
      "Epoch 49/100:  61%|██████    | 61/100 [00:27<00:16,  2.33it/s, loss=0.00192]"
     ]
    },
    {
     "name": "stdout",
     "output_type": "stream",
     "text": [
      "Error processing kaggle_data\\jazz\\jazz.00054.wav: Error opening 'kaggle_data\\\\jazz\\\\jazz.00054.wav': Format not recognised.\n",
      "\u001b[91m The size of tensor a (29) must match the size of tensor b (30) at non-singleton dimension 0\u001b[00m\n"
     ]
    },
    {
     "name": "stderr",
     "output_type": "stream",
     "text": [
      "Epoch 49/100:  79%|███████▉  | 79/100 [00:35<00:08,  2.38it/s, loss=0.00209]"
     ]
    },
    {
     "name": "stdout",
     "output_type": "stream",
     "text": [
      "Error processing kaggle_data\\jazz\\jazz.00054.wav: Error opening 'kaggle_data\\\\jazz\\\\jazz.00054.wav': Format not recognised.\n",
      "\u001b[91m The size of tensor a (29) must match the size of tensor b (30) at non-singleton dimension 0\u001b[00m\n"
     ]
    },
    {
     "name": "stderr",
     "output_type": "stream",
     "text": [
      "Epoch 49/100: 100%|██████████| 100/100 [00:45<00:00,  2.19it/s, loss=0.00231]\n"
     ]
    },
    {
     "name": "stdout",
     "output_type": "stream",
     "text": [
      "\u001b[92m \n",
      "Checkpoint saved at epoch 49\u001b[00m\n",
      "\u001b[94m Epoch 49 average loss: 0.0023\u001b[00m\n"
     ]
    },
    {
     "name": "stderr",
     "output_type": "stream",
     "text": [
      "Epoch 50/100:  65%|██████▌   | 65/100 [00:29<00:14,  2.38it/s, loss=0.00343]"
     ]
    },
    {
     "name": "stdout",
     "output_type": "stream",
     "text": [
      "Error processing kaggle_data\\jazz\\jazz.00054.wav: Error opening 'kaggle_data\\\\jazz\\\\jazz.00054.wav': Format not recognised.\n",
      "\u001b[91m The size of tensor a (29) must match the size of tensor b (30) at non-singleton dimension 0\u001b[00m\n"
     ]
    },
    {
     "name": "stderr",
     "output_type": "stream",
     "text": [
      "Epoch 50/100:  72%|███████▏  | 72/100 [00:32<00:11,  2.36it/s, loss=0.00323]"
     ]
    },
    {
     "name": "stdout",
     "output_type": "stream",
     "text": [
      "Error processing kaggle_data\\jazz\\jazz.00054.wav: Error opening 'kaggle_data\\\\jazz\\\\jazz.00054.wav': Format not recognised.\n",
      "\u001b[91m The size of tensor a (29) must match the size of tensor b (30) at non-singleton dimension 0\u001b[00m\n"
     ]
    },
    {
     "name": "stderr",
     "output_type": "stream",
     "text": [
      "Epoch 50/100: 100%|██████████| 100/100 [00:45<00:00,  2.18it/s, loss=0.00301]\n"
     ]
    },
    {
     "name": "stdout",
     "output_type": "stream",
     "text": [
      "\u001b[92m \n",
      "Checkpoint saved at epoch 50\u001b[00m\n",
      "\u001b[94m Epoch 50 average loss: 0.0030\u001b[00m\n"
     ]
    },
    {
     "name": "stderr",
     "output_type": "stream",
     "text": [
      "Epoch 51/100:   0%|          | 0/100 [00:00<?, ?it/s]"
     ]
    },
    {
     "name": "stdout",
     "output_type": "stream",
     "text": [
      "Error processing kaggle_data\\jazz\\jazz.00054.wav: Error opening 'kaggle_data\\\\jazz\\\\jazz.00054.wav': Format not recognised.\n"
     ]
    },
    {
     "name": "stderr",
     "output_type": "stream",
     "text": [
      "Epoch 51/100:   1%|          | 1/100 [00:00<00:38,  2.56it/s]"
     ]
    },
    {
     "name": "stdout",
     "output_type": "stream",
     "text": [
      "\u001b[91m The size of tensor a (29) must match the size of tensor b (30) at non-singleton dimension 0\u001b[00m\n"
     ]
    },
    {
     "name": "stderr",
     "output_type": "stream",
     "text": [
      "Epoch 51/100:  41%|████      | 41/100 [00:18<00:24,  2.36it/s, loss=0.00178]"
     ]
    },
    {
     "name": "stdout",
     "output_type": "stream",
     "text": [
      "Error processing kaggle_data\\jazz\\jazz.00054.wav: Error opening 'kaggle_data\\\\jazz\\\\jazz.00054.wav': Format not recognised.\n",
      "\u001b[91m The size of tensor a (29) must match the size of tensor b (30) at non-singleton dimension 0\u001b[00m\n"
     ]
    },
    {
     "name": "stderr",
     "output_type": "stream",
     "text": [
      "Epoch 51/100:  64%|██████▍   | 64/100 [00:29<00:16,  2.24it/s, loss=0.00177]"
     ]
    },
    {
     "name": "stdout",
     "output_type": "stream",
     "text": [
      "Error processing kaggle_data\\jazz\\jazz.00054.wav: Error opening 'kaggle_data\\\\jazz\\\\jazz.00054.wav': Format not recognised.\n",
      "\u001b[91m The size of tensor a (29) must match the size of tensor b (30) at non-singleton dimension 0\u001b[00m\n"
     ]
    },
    {
     "name": "stderr",
     "output_type": "stream",
     "text": [
      "Epoch 51/100:  68%|██████▊   | 68/100 [00:32<00:15,  2.12it/s, loss=0.0017] \n"
     ]
    },
    {
     "ename": "KeyboardInterrupt",
     "evalue": "",
     "output_type": "error",
     "traceback": [
      "\u001b[1;31m---------------------------------------------------------------------------\u001b[0m",
      "\u001b[1;31mKeyboardInterrupt\u001b[0m                         Traceback (most recent call last)",
      "Cell \u001b[1;32mIn[31], line 67\u001b[0m\n\u001b[0;32m     65\u001b[0m \u001b[38;5;66;03m# Start training\u001b[39;00m\n\u001b[0;32m     66\u001b[0m \u001b[38;5;28;01mif\u001b[39;00m \u001b[38;5;18m__name__\u001b[39m \u001b[38;5;241m==\u001b[39m \u001b[38;5;124m\"\u001b[39m\u001b[38;5;124m__main__\u001b[39m\u001b[38;5;124m\"\u001b[39m:\n\u001b[1;32m---> 67\u001b[0m     \u001b[43mtrain\u001b[49m\u001b[43m(\u001b[49m\u001b[43mbatch_size\u001b[49m\u001b[38;5;241;43m=\u001b[39;49m\u001b[38;5;241;43m30\u001b[39;49m\u001b[43m)\u001b[49m\n",
      "Cell \u001b[1;32mIn[31], line 52\u001b[0m, in \u001b[0;36mtrain\u001b[1;34m(epochs, batch_size, learning_rate)\u001b[0m\n\u001b[0;32m     49\u001b[0m     \u001b[38;5;66;03m# Track progress\u001b[39;00m\n\u001b[0;32m     50\u001b[0m     epoch_losses\u001b[38;5;241m.\u001b[39mappend(loss\u001b[38;5;241m.\u001b[39mitem())\n\u001b[1;32m---> 52\u001b[0m     pbar\u001b[38;5;241m.\u001b[39mset_postfix({\u001b[38;5;124m'\u001b[39m\u001b[38;5;124mloss\u001b[39m\u001b[38;5;124m'\u001b[39m: \u001b[43mnp\u001b[49m\u001b[38;5;241;43m.\u001b[39;49m\u001b[43mmean\u001b[49m\u001b[43m(\u001b[49m\u001b[43mepoch_losses\u001b[49m\u001b[43m)\u001b[49m})\n\u001b[0;32m     54\u001b[0m \u001b[38;5;28;01mexcept\u001b[39;00m \u001b[38;5;167;01mException\u001b[39;00m \u001b[38;5;28;01mas\u001b[39;00m e:\n\u001b[0;32m     55\u001b[0m     \u001b[38;5;66;03m#print full stack trace\u001b[39;00m\n\u001b[0;32m     56\u001b[0m     p\u001b[38;5;241m.\u001b[39mred(e)\n",
      "File \u001b[1;32mc:\\Users\\Ranit Bhowmick\\AppData\\Local\\Programs\\Python\\Python311\\Lib\\site-packages\\numpy\\core\\fromnumeric.py:3380\u001b[0m, in \u001b[0;36m_mean_dispatcher\u001b[1;34m(a, axis, dtype, out, keepdims, where)\u001b[0m\n\u001b[0;32m   3365\u001b[0m \u001b[38;5;250m    \u001b[39m\u001b[38;5;124;03m\"\"\"\u001b[39;00m\n\u001b[0;32m   3366\u001b[0m \u001b[38;5;124;03m    Round an array to the given number of decimals.\u001b[39;00m\n\u001b[0;32m   3367\u001b[0m \n\u001b[1;32m   (...)\u001b[0m\n\u001b[0;32m   3375\u001b[0m \n\u001b[0;32m   3376\u001b[0m \u001b[38;5;124;03m    \"\"\"\u001b[39;00m\n\u001b[0;32m   3377\u001b[0m     \u001b[38;5;28;01mreturn\u001b[39;00m _wrapfunc(a, \u001b[38;5;124m'\u001b[39m\u001b[38;5;124mround\u001b[39m\u001b[38;5;124m'\u001b[39m, decimals\u001b[38;5;241m=\u001b[39mdecimals, out\u001b[38;5;241m=\u001b[39mout)\n\u001b[1;32m-> 3380\u001b[0m \u001b[38;5;28;01mdef\u001b[39;00m \u001b[38;5;21m_mean_dispatcher\u001b[39m(a, axis\u001b[38;5;241m=\u001b[39m\u001b[38;5;28;01mNone\u001b[39;00m, dtype\u001b[38;5;241m=\u001b[39m\u001b[38;5;28;01mNone\u001b[39;00m, out\u001b[38;5;241m=\u001b[39m\u001b[38;5;28;01mNone\u001b[39;00m, keepdims\u001b[38;5;241m=\u001b[39m\u001b[38;5;28;01mNone\u001b[39;00m, \u001b[38;5;241m*\u001b[39m,\n\u001b[0;32m   3381\u001b[0m                      where\u001b[38;5;241m=\u001b[39m\u001b[38;5;28;01mNone\u001b[39;00m):\n\u001b[0;32m   3382\u001b[0m     \u001b[38;5;28;01mreturn\u001b[39;00m (a, where, out)\n\u001b[0;32m   3385\u001b[0m \u001b[38;5;129m@array_function_dispatch\u001b[39m(_mean_dispatcher)\n\u001b[0;32m   3386\u001b[0m \u001b[38;5;28;01mdef\u001b[39;00m \u001b[38;5;21mmean\u001b[39m(a, axis\u001b[38;5;241m=\u001b[39m\u001b[38;5;28;01mNone\u001b[39;00m, dtype\u001b[38;5;241m=\u001b[39m\u001b[38;5;28;01mNone\u001b[39;00m, out\u001b[38;5;241m=\u001b[39m\u001b[38;5;28;01mNone\u001b[39;00m, keepdims\u001b[38;5;241m=\u001b[39mnp\u001b[38;5;241m.\u001b[39m_NoValue, \u001b[38;5;241m*\u001b[39m,\n\u001b[0;32m   3387\u001b[0m          where\u001b[38;5;241m=\u001b[39mnp\u001b[38;5;241m.\u001b[39m_NoValue):\n",
      "\u001b[1;31mKeyboardInterrupt\u001b[0m: "
     ]
    }
   ],
   "source": [
    "import torch\n",
    "from torch import nn\n",
    "import numpy as np\n",
    "from tqdm import tqdm\n",
    "\n",
    "def train(epochs=100, batch_size=5, learning_rate=0.0001):\n",
    "    \n",
    "    # Initialize model and optimizer\n",
    "    model = PretrainedAudioClassifier(device='cuda')\n",
    "    model.load('models/pretrained_audio_classifier.pth')\n",
    "    model.train()\n",
    "    \n",
    "    optimizer = torch.optim.Adam(model.parameters(), lr=learning_rate)\n",
    "    criterion = nn.MSELoss()  # or appropriate loss function\n",
    "    \n",
    "    # Training loop\n",
    "    for epoch in range(epochs):\n",
    "        epoch_losses = []\n",
    "        \n",
    "        # Create progress bar for each epoch\n",
    "        with tqdm(range(100), desc=f'Epoch {epoch+1}/{epochs}') as pbar:\n",
    "            for _ in pbar:\n",
    "\n",
    "                try:\n",
    "                    \n",
    "                    # Get batch\n",
    "                    audio_paths, labels = get_batch_kaggle(batch_size, device='cuda')\n",
    "\n",
    "                    # Forward pass\n",
    "                    probabilities = model(audio_paths)\n",
    "\n",
    "                    # Check gradient\n",
    "                    if not probabilities.requires_grad:\n",
    "                        p.yellow(\"Warning: probabilities lost gradient tracking\")\n",
    "                        continue\n",
    "\n",
    "                    # Calculate loss\n",
    "                    loss = criterion(probabilities, labels)\n",
    "                    \n",
    "                    if not loss.requires_grad:\n",
    "                        p.yellow(\"Warning: loss lost gradient tracking\")\n",
    "                        continue\n",
    "\n",
    "                    # Backward pass\n",
    "                    optimizer.zero_grad()\n",
    "                    loss.backward()\n",
    "                    optimizer.step()\n",
    "                    \n",
    "                    # Track progress\n",
    "                    epoch_losses.append(loss.item())\n",
    "\n",
    "                    pbar.set_postfix({'loss': np.mean(epoch_losses)})\n",
    "\n",
    "                except Exception as e:\n",
    "                    #print full stack trace\n",
    "                    p.red(e)\n",
    "                    continue\n",
    "        \n",
    "        # Save model checkpoint every epochs\n",
    "        model.save('models/pretrained_audio_classifier.pth')\n",
    "        p.green(f'\\nCheckpoint saved at epoch {epoch+1}')\n",
    "            \n",
    "        p.blue(f'Epoch {epoch+1} average loss: {np.mean(epoch_losses):.4f}')\n",
    "\n",
    "# Start training\n",
    "if __name__ == \"__main__\":\n",
    "    train(batch_size=30)"
   ]
  },
  {
   "cell_type": "markdown",
   "metadata": {},
   "source": [
    "### Test Kaggle"
   ]
  },
  {
   "cell_type": "code",
   "execution_count": 32,
   "metadata": {},
   "outputs": [
    {
     "name": "stdout",
     "output_type": "stream",
     "text": [
      "Audio paths: ['kaggle_data\\\\disco\\\\disco.00021.wav']\n",
      "Probabilities shape: torch.Size([1, 19])\n",
      "\n",
      "Predictions:\n",
      "Top 3 genres:\n",
      "1: Rock - 0.9970\n",
      "2: Pop - 0.0022\n",
      "6: Classical - 0.0001\n",
      "\n",
      "Top 3 emotions:\n",
      "0: Dark - 0.9930\n",
      "5: Fear - 0.0060\n",
      "2: Energetic - 0.0055\n",
      "\n",
      "Top 3 use cases:\n",
      "0: Background - 0.9599\n",
      "2: YouTube-Friendly - 0.0163\n",
      "3: Nature - 0.0104\n",
      "\n",
      "Ground truth:\n",
      "Top 3 genres:\n",
      "1: Rock - 1.0000\n",
      "2: Pop - 0.0000\n",
      "4: Industrial - 0.0000\n",
      "\n",
      "Top 3 emotions:\n",
      "0: Dark - 1.0000\n",
      "3: Chill - 0.0000\n",
      "2: Energetic - 0.0000\n",
      "\n",
      "Top 3 use cases:\n",
      "0: Background - 1.0000\n",
      "3: Nature - 0.0000\n",
      "1: Trailer - 0.0000\n"
     ]
    }
   ],
   "source": [
    "model = PretrainedAudioClassifier(device='cuda')\n",
    "model.load('models/pretrained_audio_classifier.pth')\n",
    "\n",
    "# Get batch\n",
    "audio_paths, labels = get_batch_kaggle(batch_size=1, device='cuda')\n",
    "print(\"Audio paths:\", audio_paths)\n",
    "\n",
    "# Forward pass\n",
    "model.eval()\n",
    "with torch.no_grad():\n",
    "    probabilities = model(audio_paths)\n",
    "\n",
    "print(\"Probabilities shape:\", probabilities.shape)\n",
    "\n",
    "def display_predictions(probabilities):\n",
    "    # Split probabilities into categories\n",
    "    genre_probs = probabilities[0, :8]\n",
    "    emotion_probs = probabilities[0, 8:14]\n",
    "    usecase_probs = probabilities[0, 14:]\n",
    "\n",
    "    # Get top 3 predictions for each category\n",
    "    genre_preds = torch.argsort(genre_probs, descending=True)[:3]\n",
    "    emotion_preds = torch.argsort(emotion_probs, descending=True)[:3]\n",
    "    usecase_preds = torch.argsort(usecase_probs, descending=True)[:3]\n",
    "\n",
    "    # Display top 3 predictions for each category\n",
    "    print(\"Top 3 genres:\")\n",
    "    for genre in genre_preds:\n",
    "        print(f\"{genre}: {genre_data[genre.item()][1]} - {genre_probs[genre]:.4f}\")\n",
    "\n",
    "    print(\"\\nTop 3 emotions:\")\n",
    "    for emotion in emotion_preds:\n",
    "        print(f\"{emotion}: {mood_data[emotion.item()][1]} - {emotion_probs[emotion]:.4f}\")\n",
    "\n",
    "    print(\"\\nTop 3 use cases:\")\n",
    "    for usecase in usecase_preds:\n",
    "        print(f\"{usecase}: {use_case_data[usecase.item()][1]} - {usecase_probs[usecase]:.4f}\")\n",
    "\n",
    "print(\"\\nPredictions:\")\n",
    "display_predictions(probabilities)\n",
    "\n",
    "# Display ground truth\n",
    "print(\"\\nGround truth:\")\n",
    "display_predictions(labels)"
   ]
  },
  {
   "cell_type": "code",
   "execution_count": 33,
   "metadata": {},
   "outputs": [
    {
     "data": {
      "image/png": "[encoded data removed]",
      "text/plain": [
       "<Figure size 1000x400 with 2 Axes>"
      ]
     },
     "metadata": {},
     "output_type": "display_data"
    },
    {
     "data": {
      "image/png": "[encoded data removed]",
      "text/plain": [
       "<Figure size 1000x400 with 1 Axes>"
      ]
     },
     "metadata": {},
     "output_type": "display_data"
    },
    {
     "data": {
      "image/png": "[encoded data removed]",
      "text/plain": [
       "<Figure size 1000x400 with 1 Axes>"
      ]
     },
     "metadata": {},
     "output_type": "display_data"
    },
    {
     "data": {
      "image/png": "[encoded data removed]",
      "text/plain": [
       "<Figure size 1000x400 with 1 Axes>"
      ]
     },
     "metadata": {},
     "output_type": "display_data"
    }
   ],
   "source": [
    "import matplotlib.pyplot as plt\n",
    "import librosa\n",
    "import librosa.display\n",
    "import numpy as np\n",
    "\n",
    "def plot_mel_spectrogram(audio_path):\n",
    "    y, sr = librosa.load(audio_path)\n",
    "    S = librosa.feature.melspectrogram(y=y, sr=sr, n_mels=64, fmax=8000)\n",
    "    S_dB = librosa.power_to_db(S, ref=np.max)\n",
    "\n",
    "    plt.figure(figsize=(10, 4))\n",
    "    librosa.display.specshow(S_dB, sr=sr, x_axis='time', y_axis='mel', fmax=8000)\n",
    "    plt.colorbar(format='%+2.0f dB')\n",
    "    plt.title('Mel-frequency spectrogram')\n",
    "    plt.tight_layout()\n",
    "    plt.show()\n",
    "\n",
    "def plot_probabilities(probabilities, category_names, title):\n",
    "    plt.figure(figsize=(10, 4))\n",
    "    plt.bar(range(len(probabilities)), probabilities, tick_label=category_names)\n",
    "    plt.title(title)\n",
    "    plt.xlabel('Categories')\n",
    "    plt.ylabel('Probabilities')\n",
    "    plt.xticks(rotation=45)\n",
    "    plt.tight_layout()\n",
    "    plt.show()\n",
    "\n",
    "# Example usage\n",
    "audio_path = audio_paths[0]  # Assuming audio_paths is a list of paths\n",
    "plot_mel_spectrogram(audio_path)\n",
    "\n",
    "# Assuming genre_data, mood_data, and use_case_data are dictionaries with category names\n",
    "genre_names = [genre_data[i][1] for i in range(8)]\n",
    "emotion_names = [mood_data[i][1] for i in range(6)]\n",
    "usecase_names = [use_case_data[i][1] for i in range(5)]\n",
    "\n",
    "# Plot probabilities\n",
    "genre_probs = probabilities[0, :8].cpu().numpy()\n",
    "emotion_probs = probabilities[0, 8:14].cpu().numpy()\n",
    "usecase_probs = probabilities[0, 14:].cpu().numpy()\n",
    "\n",
    "plot_probabilities(genre_probs, genre_names, 'Genre Predictions')\n",
    "plot_probabilities(emotion_probs, emotion_names, 'Emotion Predictions')\n",
    "plot_probabilities(usecase_probs, usecase_names, 'Use Case Predictions')"
   ]
  }
 ],
 "metadata": {
  "kernelspec": {
   "display_name": "Python 3",
   "language": "python",
   "name": "python3"
  },
  "language_info": {
   "codemirror_mode": {
    "name": "ipython",
    "version": 3
   },
   "file_extension": ".py",
   "mimetype": "text/x-python",
   "name": "python",
   "nbconvert_exporter": "python",
   "pygments_lexer": "ipython3",
   "version": "3.11.2"
  }
 },
 "nbformat": 4,
 "nbformat_minor": 2
}
